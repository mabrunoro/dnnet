{
  "nbformat": 4,
  "nbformat_minor": 0,
  "metadata": {
    "colab": {
      "name": "DL_LISTA_PYTHON_MT.ipynb",
      "version": "0.3.2",
      "provenance": [],
      "collapsed_sections": [],
      "include_colab_link": true
    },
    "kernelspec": {
      "display_name": "Python 3",
      "language": "python",
      "name": "python3"
    }
  },
  "cells": [
    {
      "cell_type": "markdown",
      "metadata": {
        "id": "view-in-github",
        "colab_type": "text"
      },
      "source": [
        "[View in Colaboratory](https://colab.research.google.com/github/mabrunoro/dnnet/blob/master/DL_LISTA_PYTHON_MT.ipynb)"
      ]
    },
    {
      "metadata": {
        "id": "_bdC-H0RxpOU",
        "colab_type": "text"
      },
      "cell_type": "markdown",
      "source": [
        "# Lista de exercícios sobre programação em Python"
      ]
    },
    {
      "metadata": {
        "id": "Ewi6c1nTxpOX",
        "colab_type": "text"
      },
      "cell_type": "markdown",
      "source": [
        "<br/>**Disciplina**: Introdução a redes neurais profundas 2018/2\n",
        "<br/>**Professor**: Jorge Leonid Aching Samatelo"
      ]
    },
    {
      "metadata": {
        "id": "adEtUH9RxpOY",
        "colab_type": "text"
      },
      "cell_type": "markdown",
      "source": [
        "**Aluno**: Marco Thomé"
      ]
    },
    {
      "metadata": {
        "id": "OFE_hF7gxpOa",
        "colab_type": "text"
      },
      "cell_type": "markdown",
      "source": [
        "## Tabela de conteúdos\n",
        "1. [Indicações](#indicacoes)\n",
        "1. [Exercícios sobre String](#ExerString)\n",
        "1. [Exercícios sobre Listas](#ExerListas)\n",
        "1. [Exercícios sobre Tuplas](#ExerTuplas)\n",
        "1. [Exercícios sobre Dicionarios](#ExerDicionarios)\n",
        "1. [Exercícios sobre Sentenças Condicionais e Repetição](#ExerCondRept)\n",
        "1. [Exercícios de Programação](#ExerProgramacao)"
      ]
    },
    {
      "metadata": {
        "id": "xWdSkyMOxpOb",
        "colab_type": "text"
      },
      "cell_type": "markdown",
      "source": [
        "## Indicações <a name=\"indicacoes\"></a>\n",
        "\n",
        "### Considerações\n",
        "* Cada aluno enviará por e-mail a solução dos exercícios propostos, tais soluções devem ser inseridas neste mesmo arquivo. \n",
        "* Para saber cómo trabalhar com arquivos `*.ipynb` é necessario ler os slides `003_JUPYTER_2x2.pdf`.\n",
        "\n",
        "### Prazo\n",
        "* Envio das soluções: Domingo 21/08/2018 - (11:59 pm) \n",
        "\n",
        "### Procedimento para o envio das soluções\n",
        "* O arquivo `*.ipynb` com as soluções dos exercícios deve ser enviado ao email <jlasam001@gmail.com> com o assunto: `LISTA_EXERCICIO_PYTHON_2018_2`. \n",
        "* O nome do arquivo `*.ipynb` deve iniciar com o rotulo `DL_LISTA_PYTHON` seguido pelas iniciais do nome do aluno que soluciono os exercícios (por exemplo, o aluno Pedro Farias enviara o arquivo `DL_LISTA_PYTHON_PF.ipynb`).\n",
        "\n",
        "### Dicas execução\n",
        "* Carregue todos os pacotes que serão necessários no início do arquivo.\n",
        "* Para executar comandos da shell dentro do notebook, utilize o prefixo `!` antes do comando de shell. (e.g. para listar os arquivos da pasta atual faça `! ls` para UNIX ou `! dir` para Windows."
      ]
    },
    {
      "metadata": {
        "id": "XbHoOUgmxpOb",
        "colab_type": "text"
      },
      "cell_type": "markdown",
      "source": [
        "## Exercícios sobre String <a name=\"ExerString\"></a>"
      ]
    },
    {
      "metadata": {
        "id": "FulGu7ANxpOd",
        "colab_type": "text"
      },
      "cell_type": "markdown",
      "source": [
        "### Exe. 1 \n",
        "Faça um programa que leia 2 strings e inprima o conteúdo delas seguido do seu comprimento. Informe também se as duas strings possuem o mesmo comprimento e são iguais ou diferentes no conteúdo. \n",
        "\n",
        "Exemplo:\n",
        "```\n",
        "Compara duas strings.\n",
        "String 1: 'Brasil Hexa 2006'\n",
        "String 2: 'Brasil! Hexa 2006!'\n",
        "Tamanho de 'Brasil Hexa 2006': 16 caracteres\n",
        "Tamanho de 'Brasil! Hexa 2006!': 18 caracteres\n",
        "As duas strings são de tamanhos diferentes.\n",
        "As duas strings possuem conteúdo diferente.\n",
        "```"
      ]
    },
    {
      "metadata": {
        "id": "wJgjI2LaxpOd",
        "colab_type": "code",
        "colab": {
          "base_uri": "https://localhost:8080/",
          "height": 119
        },
        "outputId": "bcde3a7e-8ef7-4e87-adda-1560b43a01cf"
      },
      "cell_type": "code",
      "source": [
        "s1 = input('String 1: ')\n",
        "s2 = input('String 2: ')\n",
        "print(\"Tamanho de '\", s1, \"': \", len(s1) , \" caracteres\", sep='')\n",
        "print(\"Tamanho de '\", s2, \"': \", len(s2) , \" caracteres\", sep='')\n",
        "if(len(s1) != len(s2)):\n",
        "    print(\"As duas strings são de tamanhos diferentes.\")\n",
        "else:\n",
        "    print(\"As duas strings são de tamanhos iguais.\")\n",
        "if(s1 != s2):\n",
        "    print(\"As duas strings possuem conteúdo diferente.\")\n",
        "else:\n",
        "    print(\"As duas strings possuem conteúdo igual.\")"
      ],
      "execution_count": 1,
      "outputs": [
        {
          "output_type": "stream",
          "text": [
            "String 1: Brasil Hexa 2006\n",
            "String 2: Brasil! Hexa 2006!\n",
            "Tamanho de 'Brasil Hexa 2006': 16 caracteres\n",
            "Tamanho de 'Brasil! Hexa 2006!': 18 caracteres\n",
            "As duas strings são de tamanhos diferentes.\n",
            "As duas strings possuem conteúdo diferente.\n"
          ],
          "name": "stdout"
        }
      ]
    },
    {
      "metadata": {
        "id": "97s_7Q0_xpOh",
        "colab_type": "text"
      },
      "cell_type": "markdown",
      "source": [
        "### Exe. 2\n",
        "\n",
        "Dado o texto: \n",
        "\n",
        "> *The Python Software Foundation and the global Python community welcome and encourage participation by everyone. Our community is based on mutual respect, tolerance, and encouragement, and we are working to help each other live up to these principles. We want our community to be more diverse: whoever you are, and whatever your backgrou and, we welcome you.*\n",
        "\n",
        "Calcule quantas palavras possuem uma das letras “python” e que tenham mais de 4 caracteres. Não esqueça de transformar maiúsculas para minúsculas e de remover antes os caracteres especiais."
      ]
    },
    {
      "metadata": {
        "id": "klTPpPb5xpOh",
        "colab_type": "code",
        "colab": {
          "base_uri": "https://localhost:8080/",
          "height": 34
        },
        "outputId": "9686a732-b943-451f-83d3-90d4c0c2e68d"
      },
      "cell_type": "code",
      "source": [
        "import string\n",
        "table = str.maketrans(dict.fromkeys(string.punctuation))\n",
        "texto = \"The Python Software Foundation and the global Python community welcome and encourage participation by everyone. Our community is based on mutual respect, tolerance, and encouragement, and we are working to help each other live up to these principles. We want our community to be more diverse: whoever you are, and whatever your backgrou and, we welcome you.\"\n",
        "letras = \"python\"\n",
        "soma = 0\n",
        "for palavra in texto.translate(table).split():\n",
        "  if(len(palavra) > 4):\n",
        "    low = palavra.lower()\n",
        "    for l in letras:\n",
        "      if(l in palavra):\n",
        "        soma += 1\n",
        "        break\n",
        "print('Número de palavras que possue uma das letras \"python\" e que tem mais de 4 caracteres:', soma)"
      ],
      "execution_count": 5,
      "outputs": [
        {
          "output_type": "stream",
          "text": [
            "Número de palavras que possue uma das letras \"python\" e que tem mais de 4 caracteres: 24\n"
          ],
          "name": "stdout"
        }
      ]
    },
    {
      "metadata": {
        "id": "aUwBTLf8xpOk",
        "colab_type": "text"
      },
      "cell_type": "markdown",
      "source": [
        "### Exe. 3\n",
        "Conta espaços e vogais. Dado uma string com uma frase informada pelo usuário (incluindo espaços em branco), conte:\n",
        "1. Quantos espaços em branco existem na frase.\n",
        "2. Quantas vezes aparecem as vogais a, e, i, o, u. "
      ]
    },
    {
      "metadata": {
        "id": "TgcZBRGExpOk",
        "colab_type": "code",
        "colab": {
          "base_uri": "https://localhost:8080/",
          "height": 136
        },
        "outputId": "029c1754-50dd-43d1-d44c-d12d0c41b5d4"
      },
      "cell_type": "code",
      "source": [
        "s = input('Informe a frase: ')\n",
        "d = { ' ' : 0, 'a' : 0, 'e' : 0, 'i' : 0, 'o' : 0, 'u' : 0 }\n",
        "for i in s:\n",
        "  if(i in d):\n",
        "    d[i] += 1\n",
        "  \n",
        "print('Número de espaços em branco:', d[' '])\n",
        "print('Número de vezes que aparece a vogal a:', d['a'])\n",
        "print('Número de vezes que aparece a vogal e:', d['e'])\n",
        "print('Número de vezes que aparece a vogal i:', d['i'])\n",
        "print('Número de vezes que aparece a vogal o:', d['o'])\n",
        "print('Número de vezes que aparece a vogal u:', d['u'])"
      ],
      "execution_count": 6,
      "outputs": [
        {
          "output_type": "stream",
          "text": [
            "Informe a frase: frase um\n",
            "Número de espaços em branco: 1\n",
            "Número de vezes que aparece a vogal a: 1\n",
            "Número de vezes que aparece a vogal e: 1\n",
            "Número de vezes que aparece a vogal i: 0\n",
            "Número de vezes que aparece a vogal o: 0\n",
            "Número de vezes que aparece a vogal u: 1\n"
          ],
          "name": "stdout"
        }
      ]
    },
    {
      "metadata": {
        "id": "aRRdRkn8xpOm",
        "colab_type": "text"
      },
      "cell_type": "markdown",
      "source": [
        "### Exe. 4\n",
        "Faça um programa que receba uma palavra e imprime cada letra dessa palavra separadamente. Para isso utilize a função `len` que informa o comprimento de uma string: len(palavra)"
      ]
    },
    {
      "metadata": {
        "id": "oZLcVvy2xpOo",
        "colab_type": "code",
        "colab": {
          "base_uri": "https://localhost:8080/",
          "height": 68
        },
        "outputId": "eda2f0ba-befa-4bec-818a-c822aff22fe4"
      },
      "cell_type": "code",
      "source": [
        "s = input('Informe uma palavra: ')\n",
        "print('Comprimento da palavra:', len(s))\n",
        "for i in range(len(s)):\n",
        "  print(s[i], end= ' ')"
      ],
      "execution_count": 7,
      "outputs": [
        {
          "output_type": "stream",
          "text": [
            "Informe uma palavra: palavra\n",
            "Comprimento da palavra: 7\n",
            "p a l a v r a "
          ],
          "name": "stdout"
        }
      ]
    },
    {
      "metadata": {
        "id": "oRTEXv8yxpOs",
        "colab_type": "text"
      },
      "cell_type": "markdown",
      "source": [
        "### Exe. 5\n",
        "Escreva um programa que determine o valor da soma: a + aa + aaa + aaaa, onde, o valor de a é definido como um caráter. Por exemplo.\n",
        "Suponha que a = '9'. Então, a saída do programa deve ser: 11106 ( = 9+99+999+9999)"
      ]
    },
    {
      "metadata": {
        "id": "Zpc0-8OxxpOt",
        "colab_type": "code",
        "colab": {
          "base_uri": "https://localhost:8080/",
          "height": 60
        },
        "outputId": "4b4afb8a-35e2-4e85-99fd-d6918ffb42ba"
      },
      "cell_type": "code",
      "source": [
        "a = input(\"Informe o valor de 'a': \")\n",
        "soma = 0\n",
        "for i in range(1,5):\n",
        "  soma += int(i*a)\n",
        "print(soma)"
      ],
      "execution_count": 2,
      "outputs": [
        {
          "output_type": "stream",
          "text": [
            "Informe o valor de 'a': 9\n",
            "11106\n"
          ],
          "name": "stdout"
        }
      ]
    },
    {
      "metadata": {
        "id": "LFAWl6CyxpOw",
        "colab_type": "text"
      },
      "cell_type": "markdown",
      "source": [
        "## Exercicios sobre Listas <a name=\"ExerListas\"></a>"
      ]
    },
    {
      "metadata": {
        "id": "9kH2OpR9xpOw",
        "colab_type": "text"
      },
      "cell_type": "markdown",
      "source": [
        "### Exe. 1\n",
        "Escreva uma função que combine duas listas tomando alternadamente seus elementos. Por exemplo: dadas as duas listas `[a, b, c]` e `[1, 2, 3]`, a função deve retornar `[a, 1, b, 2, c, 3]`."
      ]
    },
    {
      "metadata": {
        "id": "LREQfmsNxpOx",
        "colab_type": "code",
        "colab": {
          "base_uri": "https://localhost:8080/",
          "height": 34
        },
        "outputId": "4a5e9a2b-6738-4feb-d53c-2a47755a109f"
      },
      "cell_type": "code",
      "source": [
        "l1 = ['a', 'b', 'c']\n",
        "l2 = [1, 2, 3, 4, 5]\n",
        "l3 = []\n",
        "\n",
        "a = len(l1)\n",
        "b = len(l2)\n",
        "\n",
        "if(a < b):\n",
        "  for i in range(a):\n",
        "    l3.append(l1[i])\n",
        "    l3.append(l2[i])\n",
        "  l3 = l3 + l2[a:]\n",
        "elif(a > b):\n",
        "  for i in range(b):\n",
        "    l3.append(l1[i])\n",
        "    l3.append(l2[i])\n",
        "  l3 = l3 + l1[b:]\n",
        "else:\n",
        "  for i in range(a):\n",
        "    l3.append(l1[i])\n",
        "    l3.append(l2[i])\n",
        "\n",
        "print(l3)"
      ],
      "execution_count": 5,
      "outputs": [
        {
          "output_type": "stream",
          "text": [
            "['a', 1, 'b', 2, 'c', 3, 4, 5]\n"
          ],
          "name": "stdout"
        }
      ]
    },
    {
      "metadata": {
        "id": "E_irUDsGxpOz",
        "colab_type": "text"
      },
      "cell_type": "markdown",
      "source": [
        "### Exe. 2\n",
        "\n",
        "Escreva um programa para determinar os elementos não comuns entre duas listas. \n",
        "\n",
        "Exemplo.\n",
        "```python\n",
        "lista1 = [\"red\", \"orange\", \"green\", \"blue\", \"white\"]\n",
        "lista2 = [\"black\", \"yellow\", \"green\", \"blue\"]\n",
        "```\n",
        "Saídas esperadas:\n",
        "```python\n",
        "lista1_lista2: ['white', 'orange', 'red']\n",
        "lista2_lista1: ['black', 'yellow']\n",
        "```"
      ]
    },
    {
      "metadata": {
        "id": "SPGSgAEkxpO1",
        "colab_type": "code",
        "colab": {
          "base_uri": "https://localhost:8080/",
          "height": 51
        },
        "outputId": "fc0a092a-914f-4d88-c959-f696ffd5a958"
      },
      "cell_type": "code",
      "source": [
        "lista1 = [\"red\", \"orange\", \"green\", \"blue\", \"white\"]\n",
        "lista2 = [\"black\", \"yellow\", \"green\", \"blue\"]\n",
        "\n",
        "lista1_lista2 = []\n",
        "lista2_lista1 = []\n",
        "\n",
        "for i in lista1:\n",
        "  if(i not in lista2):\n",
        "    lista1_lista2.append(i)\n",
        "\n",
        "for i in lista2:\n",
        "  if(i not in lista1):\n",
        "    lista2_lista1.append(i)\n",
        "\n",
        "print(\"lista1_lista2:\", lista1_lista2)\n",
        "print(\"lista2_lista1:\", lista2_lista1)"
      ],
      "execution_count": 8,
      "outputs": [
        {
          "output_type": "stream",
          "text": [
            "lista1_lista2: ['red', 'orange', 'white']\n",
            "lista2_lista1: ['black', 'yellow']\n"
          ],
          "name": "stdout"
        }
      ]
    },
    {
      "metadata": {
        "id": "mc5Jif_vxpO2",
        "colab_type": "text"
      },
      "cell_type": "markdown",
      "source": [
        "### Exe. 3\n",
        "Escreva um programa Python que permita remover elementos duplicados de uma lista.\n",
        "\n",
        "Exemplo\n",
        "```python\n",
        "ListaInput = [10,20,30,20,10,50,60,40,80,50,40] \n",
        "ListaOutput = [10,20,30,50,60,40,80]\n",
        "```"
      ]
    },
    {
      "metadata": {
        "id": "NIBUXs4ZxpO3",
        "colab_type": "code",
        "colab": {
          "base_uri": "https://localhost:8080/",
          "height": 34
        },
        "outputId": "8838ccda-f0a1-47b8-a19d-c655dc3847e1"
      },
      "cell_type": "code",
      "source": [
        "ListaInput = [10,20,30,20,10,50,60,40,80,50,40]\n",
        "ListaOutput = []\n",
        "\n",
        "for i in ListaInput:\n",
        "  if(i not in ListaOutput):\n",
        "    ListaOutput.append(i)\n",
        "    \n",
        "print(\"ListaOutput =\", ListaOutput)"
      ],
      "execution_count": 9,
      "outputs": [
        {
          "output_type": "stream",
          "text": [
            "[10, 20, 30, 50, 60, 40, 80]\n"
          ],
          "name": "stdout"
        }
      ]
    },
    {
      "metadata": {
        "id": "83oJ8JT9xpO6",
        "colab_type": "text"
      },
      "cell_type": "markdown",
      "source": [
        "### Exe. 4\n",
        "Escreva um programa que dada uma lista de entrada, retorne uma nova lista cujo conteúdo é igual ao original, mas invertida. \n",
        "\n",
        "Exemplo\n",
        "```python\n",
        "ListaInput = [ 'Di', 'bom', 'dia', 'a', 'papa'] \n",
        "ListaOutput = [ 'papa', 'a', 'dia', 'boa', 'Di']\n",
        "```"
      ]
    },
    {
      "metadata": {
        "id": "0TSXuphQxpO7",
        "colab_type": "code",
        "colab": {
          "base_uri": "https://localhost:8080/",
          "height": 34
        },
        "outputId": "73e6bdb6-9d09-4c02-94c7-c35ad5d1550b"
      },
      "cell_type": "code",
      "source": [
        "ListaInput = [ 'Di', 'bom', 'dia', 'a', 'papa'] \n",
        "ListaOutput = ListaInput[:]\n",
        "ListaOutput.reverse()\n",
        "print(ListaOutput)"
      ],
      "execution_count": 3,
      "outputs": [
        {
          "output_type": "stream",
          "text": [
            "['papa', 'a', 'dia', 'bom', 'Di']\n"
          ],
          "name": "stdout"
        }
      ]
    },
    {
      "metadata": {
        "id": "ilpvSIUOxpO-",
        "colab_type": "text"
      },
      "cell_type": "markdown",
      "source": [
        "### Exe. 5\n",
        "Faça uma função que determine a superposição de duas listas, ou seja, que retorne `True` se as listas têm pelo menos um elemento em comum, caso contrario, deve retornar `False`."
      ]
    },
    {
      "metadata": {
        "id": "5dE74EV0xpO-",
        "colab_type": "code",
        "colab": {}
      },
      "cell_type": "code",
      "source": [
        "def superpos(lista1, lista2):\n",
        "  for i in lista1:\n",
        "    if(i in lista2):\n",
        "      return True\n",
        "  return False"
      ],
      "execution_count": 0,
      "outputs": []
    },
    {
      "metadata": {
        "id": "OklzdgM3xpPB",
        "colab_type": "text"
      },
      "cell_type": "markdown",
      "source": [
        "## Exercícios sobre Tuplas <a name=\"ExerTuplas\"></a>"
      ]
    },
    {
      "metadata": {
        "id": "_RE8OnU2xpPC",
        "colab_type": "text"
      },
      "cell_type": "markdown",
      "source": [
        "### Exe. 1\n",
        "Escreva um programa que permita classificar as tuplas (nome, idade, altura) por ordem crescente, onde o nome é string, idade e altura são números. \n",
        "As tuplas são inseridas pelo console. \n",
        "\n",
        "Os critérios de classificação são:\n",
        "1. Classificar com base no nome;\n",
        "2. Em seguida, classificar com base na idade;\n",
        "3. Em seguida, classificar por altura.\n",
        "4. A prioridade é que:  `nome> idade> altura`.\n",
        "\n",
        "A entrada é dada como uma string, onde as tuplas são separadas por dois pontos (;) e os elementos de cada tupla são separados por vírgula (,).\n",
        "\n",
        "Exemplo.\n",
        "Se as seguintes tuplas são dadas como entrada para o programa:\n",
        "```python\n",
        "str_input = 'Tom,19,80;João,20,90;Jony,17,91;Jony,17,93;Json,21,85'\n",
        "```\n",
        "Em seguida, a saída do programa deve ser:\n",
        "```python\n",
        "tupla_output = [('Jony', '17', '91'), ('Jony', '17', '93'), ('João', '20', '90'), ('Json', '21', '85'), ('Tom', '19', '80')]\n",
        "```"
      ]
    },
    {
      "metadata": {
        "id": "rh3Qq3PPxpPC",
        "colab_type": "code",
        "colab": {
          "base_uri": "https://localhost:8080/",
          "height": 60
        },
        "outputId": "2ae43936-f2da-490c-caeb-c733a357c147"
      },
      "cell_type": "code",
      "source": [
        "str_input = input('Entre com as tuplas: ')\n",
        "\n",
        "tupla_output = []\n",
        "\n",
        "for i in str_input.split(';'):\n",
        "  a,b,c = i.split(',')\n",
        "  tupla_output.append((a,b,c))\n",
        "tupla_output.sort()\n",
        "print(tupla_output)"
      ],
      "execution_count": 6,
      "outputs": [
        {
          "output_type": "stream",
          "text": [
            "Entre com as tuplas: Tom,19,80;João,20,90;Jony,17,91;Jony,17,93;Json,21,85\n",
            "[('Jony', '17', '91'), ('Jony', '17', '93'), ('João', '20', '90'), ('Json', '21', '85'), ('Tom', '19', '80')]\n"
          ],
          "name": "stdout"
        }
      ]
    },
    {
      "metadata": {
        "id": "3c4FhBmTxpPE",
        "colab_type": "text"
      },
      "cell_type": "markdown",
      "source": [
        "### Exe. 2\n",
        "Escreva um programa que mostre todas fichas de dominó, sem repetir, um por linha. da seguinte forma:\n",
        "```\n",
        "1:1\n",
        "1:2\n",
        "...\n",
        "6:6\n",
        "```"
      ]
    },
    {
      "metadata": {
        "id": "fKAUv7tNxpPE",
        "colab_type": "code",
        "colab": {
          "base_uri": "https://localhost:8080/",
          "height": 374
        },
        "outputId": "6af76907-68be-4659-bdc3-93672d7a462a"
      },
      "cell_type": "code",
      "source": [
        "for i in range(1,7):\n",
        "  for j in range(i,7):\n",
        "    print('%d:%d' % (i,j))"
      ],
      "execution_count": 8,
      "outputs": [
        {
          "output_type": "stream",
          "text": [
            "1:1\n",
            "1:2\n",
            "1:3\n",
            "1:4\n",
            "1:5\n",
            "1:6\n",
            "2:2\n",
            "2:3\n",
            "2:4\n",
            "2:5\n",
            "2:6\n",
            "3:3\n",
            "3:4\n",
            "3:5\n",
            "3:6\n",
            "4:4\n",
            "4:5\n",
            "4:6\n",
            "5:5\n",
            "5:6\n",
            "6:6\n"
          ],
          "name": "stdout"
        }
      ]
    },
    {
      "metadata": {
        "id": "WLEIXl1AxpPH",
        "colab_type": "text"
      },
      "cell_type": "markdown",
      "source": [
        "### Exe. 3\n",
        "Escreva uma função que retorne `True` se duas fichas de dominó encaixarem ou não. \n",
        "As fichas de dominó são representadas como tuplas, por exemplo, `(3,4)` e `(5,4)`."
      ]
    },
    {
      "metadata": {
        "id": "4SwvyIftxpPJ",
        "colab_type": "code",
        "colab": {}
      },
      "cell_type": "code",
      "source": [
        "def encaixam(f1,f2):\n",
        "  return ((f1[0] == f2[0]) or (f1[1] == f2[0]) or (f1[1] == f2[1]) or (f1[0] == f2[1]))"
      ],
      "execution_count": 0,
      "outputs": []
    },
    {
      "metadata": {
        "id": "ucmPScpcxpPK",
        "colab_type": "text"
      },
      "cell_type": "markdown",
      "source": [
        "## Exercícios sobre Dicionários <a name=\"ExerDicionarios\"></a>"
      ]
    },
    {
      "metadata": {
        "id": "Zq7pCojDxpPL",
        "colab_type": "text"
      },
      "cell_type": "markdown",
      "source": [
        "### Exe. 1\n",
        "Escreva uma função que permita concatenar dicionários e criar um novo dicionário.\n",
        "\n",
        "Exemplo.\n",
        "Sejam os dicionários de entrada\n",
        "```python\n",
        "dic1={1:10, 2:20}\n",
        "dic2={3:30, 4:40}\n",
        "dic3={5:50,6:60}\n",
        "```\n",
        "o resultado esperado será:\n",
        "```python\n",
        "{1: 10, 2: 20, 3: 30, 4: 40, 5: 50, 6: 60}\n",
        "```"
      ]
    },
    {
      "metadata": {
        "id": "RQ11SEyzxpPN",
        "colab_type": "code",
        "colab": {
          "base_uri": "https://localhost:8080/",
          "height": 34
        },
        "outputId": "45bff0e8-893b-493b-b2d3-4cfcf6740f89"
      },
      "cell_type": "code",
      "source": [
        "dic1={1:10, 2:20}\n",
        "dic2={3:30, 4:40}\n",
        "dic3={5:50,6:60}\n",
        "\n",
        "def concatdicts(dic1, dic2, dic3):\n",
        "  d = {**dic1, **dic2, **dic3}\n",
        "  return d\n",
        "print(concatdicts(dic1, dic2, dic3))"
      ],
      "execution_count": 9,
      "outputs": [
        {
          "output_type": "stream",
          "text": [
            "{1: 10, 2: 20, 3: 30, 4: 40, 5: 50, 6: 60}\n"
          ],
          "name": "stdout"
        }
      ]
    },
    {
      "metadata": {
        "id": "0pHYNF2gxpPO",
        "colab_type": "text"
      },
      "cell_type": "markdown",
      "source": [
        "### Exe. 2\n",
        "Escreva um programa para calcular a frequência das palavras a partir de uma string de entrada. \n",
        "A saída deve ser exibida após a classificação alfanumérica da chave.\n",
        "\n",
        "Exemplo:\n",
        "Suponha que o seguinte string de entrada seja fornecida ao programa:\n",
        "```python\n",
        "str_input = 'Novo para Python ou escolher entre Python 2 e Python 3? Leia Python 2 ou Python 3'\n",
        "```\n",
        "Em seguida, a saída do programa deve ser:\n",
        "```\n",
        "2:2\n",
        "3:1\n",
        "3?:1\n",
        "Leia:1\n",
        "Novo:1\n",
        "Python:5\n",
        "e:1\n",
        "entre:1\n",
        "escolher:1\n",
        "ou:2\n",
        "para:1\n",
        "```\n",
        "Sugestões: use um dicionário para guardar os pares (palavra, frequência) ."
      ]
    },
    {
      "metadata": {
        "id": "RE4G65T3xpPP",
        "colab_type": "code",
        "colab": {
          "base_uri": "https://localhost:8080/",
          "height": 221
        },
        "outputId": "e7c26266-5acb-4ad9-b2a4-44c513f2782f"
      },
      "cell_type": "code",
      "source": [
        "str_input = input('Forneça a string de entrada: ')\n",
        "d = {}\n",
        "\n",
        "for i in str_input.split():\n",
        "  if(i in d):\n",
        "    d[i] += 1\n",
        "  else:\n",
        "    d[i] = 1\n",
        "\n",
        "l = list(d.items())\n",
        "l.sort()\n",
        "for i in l:\n",
        "  print(\"%s:%d\" % (i[0],i[1]))"
      ],
      "execution_count": 2,
      "outputs": [
        {
          "output_type": "stream",
          "text": [
            "Forneça a string de entrada: Novo para Python ou escolher entre Python 2 e Python 3? Leia Python 2 ou Python 3\n",
            "2:2\n",
            "3:1\n",
            "3?:1\n",
            "Leia:1\n",
            "Novo:1\n",
            "Python:5\n",
            "e:1\n",
            "entre:1\n",
            "escolher:1\n",
            "ou:2\n",
            "para:1\n"
          ],
          "name": "stdout"
        }
      ]
    },
    {
      "metadata": {
        "id": "LZsv9YI7xpPS",
        "colab_type": "text"
      },
      "cell_type": "markdown",
      "source": [
        "### Exe. 3\n",
        "Existem 36 possíveis combinações de dois dados. \n",
        "Usando a soma dos dois dados como a chave, criar um dicionário de todas as combinações de ṕares possíveis para os dois dados. Evidentemente, cada valor no dicionário deve ser uma lista de tuplas, onde,  cada tupla tem o valor de dois dados."
      ]
    },
    {
      "metadata": {
        "id": "HlH-7PnMxpPT",
        "colab_type": "code",
        "colab": {
          "base_uri": "https://localhost:8080/",
          "height": 204
        },
        "outputId": "bc5b2725-8a28-42bf-b4ef-5be679ae7eb5"
      },
      "cell_type": "code",
      "source": [
        "d = {}\n",
        "for i in range(1,7):\n",
        "  for j in range(1,7):\n",
        "    if((i+j) not in d):\n",
        "      d[i+j] = [(i,j)]\n",
        "    else:\n",
        "      d[i+j].append((i,j))\n",
        "for i in d:\n",
        "  print(i,':',d[i])"
      ],
      "execution_count": 6,
      "outputs": [
        {
          "output_type": "stream",
          "text": [
            "2 : [(1, 1)]\n",
            "3 : [(1, 2), (2, 1)]\n",
            "4 : [(1, 3), (2, 2), (3, 1)]\n",
            "5 : [(1, 4), (2, 3), (3, 2), (4, 1)]\n",
            "6 : [(1, 5), (2, 4), (3, 3), (4, 2), (5, 1)]\n",
            "7 : [(1, 6), (2, 5), (3, 4), (4, 3), (5, 2), (6, 1)]\n",
            "8 : [(2, 6), (3, 5), (4, 4), (5, 3), (6, 2)]\n",
            "9 : [(3, 6), (4, 5), (5, 4), (6, 3)]\n",
            "10 : [(4, 6), (5, 5), (6, 4)]\n",
            "11 : [(5, 6), (6, 5)]\n",
            "12 : [(6, 6)]\n"
          ],
          "name": "stdout"
        }
      ]
    },
    {
      "metadata": {
        "id": "L4BvELWZxpPW",
        "colab_type": "text"
      },
      "cell_type": "markdown",
      "source": [
        "### Exe. 4\n",
        "A data do formulário 8-MAR-75 inclui o nome do mês, que deve ser traduzido para um número. \n",
        "Crie um dicionário adequado para decodificar nomes de mês para números. \n",
        "Crie uma função que aceite uma data no formato \"dd-mm-yy\" e devolva uma tupla de (y, m, d)."
      ]
    },
    {
      "metadata": {
        "id": "k6div5tmxpPX",
        "colab_type": "code",
        "colab": {}
      },
      "cell_type": "code",
      "source": [
        "meses = { \"JAN\":1, \"FEV\":2, \"MAR\":3, \"ABR\":4, \"MAI\":5, \"JUN\":6, \"JUL\":7, \"AGO\":8, \"SET\":9, \"OUT\":10, \"NOV\":11, \"DEZ\":12 }\n",
        "\n",
        "def traduz_data(str_input):\n",
        "  d,m,y = str_input.split('-')\n",
        "  return (int(y), meses[m], int(d))"
      ],
      "execution_count": 0,
      "outputs": []
    },
    {
      "metadata": {
        "id": "nJ54MFtYxpPZ",
        "colab_type": "text"
      },
      "cell_type": "markdown",
      "source": [
        "### Exe. 5\n",
        "\n",
        "Em criptografia, a Cifra de César, também conhecida como cifra de troca, código de César ou troca de César, é uma das mais simples e conhecidas técnicas de criptografia, na qual cada letra do texto é substituída por outra, que se apresenta no alfabeto abaixo dela um número fixo de vezes.\n",
        "Por exemplo, com uma mudança de 3, \n",
        "A seria substituído por D, \n",
        "B se tornaria E, e assim por diante. \n",
        "\n",
        "ROT-13 (\"rotação por 13 posições\") é um exemplo amplamente utilizado de uma cifra de César, onde o deslocamento é 13. \n",
        "Em Python, a chave para ROT-13 pode ser representada por meio do seguinte dicionário:\n",
        "```python\n",
        "key = {'a':'n', 'b':'o', 'c':'p', 'd':'q', 'e':'r', 'f':'s', 'g':'t', 'h':'u', \n",
        "       'i':'v', 'j':'w', 'k':'x', 'l':'y', 'm':'z', 'n':'a', 'o':'b', 'p':'c', \n",
        "       'q':'d', 'r':'e', 's':'f', 't':'g', 'u':'h', 'v':'i', 'w':'j', 'x':'k',\n",
        "       'y':'l', 'z':'m', 'A':'N', 'B':'O', 'C':'P', 'D':'Q', 'E':'R', 'F':'S', \n",
        "       'G':'T', 'H':'U', 'I':'V', 'J':'W', 'K':'X', 'L':'Y', 'M':'Z', 'N':'A', \n",
        "       'O':'B', 'P':'C', 'Q':'D', 'R':'E', 'S':'F', 'T':'G', 'U':'H', 'V':'I', \n",
        "       'W':'J', 'X':'K', 'Y':'L', 'Z':'M'}\n",
        "```\n",
        "Sua tarefa neste exercício é implementar um codificador/decodificador para ROT-13. \n",
        "Depois de terminar, você poderá ler o seguinte mensagem secreto:\n",
        "\n",
        "> _Pnrfne pvcure? V zhpu cersre Pnrfne fnynq\\!_\n",
        "\n",
        "Note que, uma vez que, foi usado o alfabeto em inglês, seu programa será capaz de codificar e decodificar textos escritos em inglês usando ROT-13."
      ]
    },
    {
      "metadata": {
        "id": "HTmSevCZxpPa",
        "colab_type": "code",
        "colab": {
          "base_uri": "https://localhost:8080/",
          "height": 34
        },
        "outputId": "911dbb71-4b18-444b-9bce-4af035eb5233"
      },
      "cell_type": "code",
      "source": [
        "key = {'a':'n', 'b':'o', 'c':'p', 'd':'q', 'e':'r', 'f':'s', 'g':'t', 'h':'u', \n",
        "       'i':'v', 'j':'w', 'k':'x', 'l':'y', 'm':'z', 'n':'a', 'o':'b', 'p':'c', \n",
        "       'q':'d', 'r':'e', 's':'f', 't':'g', 'u':'h', 'v':'i', 'w':'j', 'x':'k',\n",
        "       'y':'l', 'z':'m', 'A':'N', 'B':'O', 'C':'P', 'D':'Q', 'E':'R', 'F':'S', \n",
        "       'G':'T', 'H':'U', 'I':'V', 'J':'W', 'K':'X', 'L':'Y', 'M':'Z', 'N':'A', \n",
        "       'O':'B', 'P':'C', 'Q':'D', 'R':'E', 'S':'F', 'T':'G', 'U':'H', 'V':'I', \n",
        "       'W':'J', 'X':'K', 'Y':'L', 'Z':'M'}\n",
        "\n",
        "# o dicionário pode ser utilizado para codificar e para decodificar\n",
        "\n",
        "def codecod(texto):\n",
        "  return texto.translate(str.maketrans(key))\n",
        "\n",
        "texto = 'Pnrfne pvcure? V zhpu cersre Pnrfne fnynq!'\n",
        "\n",
        "print(codecod(texto))"
      ],
      "execution_count": 1,
      "outputs": [
        {
          "output_type": "stream",
          "text": [
            "Caesar cipher? I much prefer Caesar salad!\n"
          ],
          "name": "stdout"
        }
      ]
    },
    {
      "metadata": {
        "id": "EiUxJvcdxpPc",
        "colab_type": "text"
      },
      "cell_type": "markdown",
      "source": [
        "## Exercícios sobre sentenças condicionais e de repetição <a name=\"ExerCondRept\"></a>"
      ]
    },
    {
      "metadata": {
        "id": "ZvgB1WPtxpPe",
        "colab_type": "text"
      },
      "cell_type": "markdown",
      "source": [
        "### Exe. 1\n",
        "Escreva três funções que calculem a soma dos elementos de uma lista, usando a instrução `while`, a instrução `for` e _recursão_."
      ]
    },
    {
      "metadata": {
        "id": "can-iez4xpPg",
        "colab_type": "code",
        "colab": {
          "base_uri": "https://localhost:8080/",
          "height": 34
        },
        "outputId": "879838a6-e6e9-406d-9e3a-cfdc6c4175da"
      },
      "cell_type": "code",
      "source": [
        "def somaw(lista):\n",
        "  i = 0\n",
        "  soma = 0\n",
        "  while(i < len(lista)):\n",
        "    soma += lista[i]\n",
        "    i += 1\n",
        "  return soma\n",
        "\n",
        "def somaf(lista):\n",
        "  soma = 0\n",
        "  for i in lista:\n",
        "    soma += i\n",
        "  return soma\n",
        "\n",
        "def somar(lista):\n",
        "  if(len(lista) == 0):\n",
        "    return 0\n",
        "  elif(len(lista) == 1):\n",
        "    return lista[0]\n",
        "  else:\n",
        "    return lista[0] + somar(lista[1:])\n"
      ],
      "execution_count": 2,
      "outputs": [
        {
          "output_type": "stream",
          "text": [
            "21 21 21\n"
          ],
          "name": "stdout"
        }
      ]
    },
    {
      "metadata": {
        "id": "iJT-mOWyxpPi",
        "colab_type": "text"
      },
      "cell_type": "markdown",
      "source": [
        "### Exe. 2\n",
        "Desenvolva um gerador de tabuada, capaz de gerar a tabuada de qualquer número inteiro entre 1 a 10. O usuário deve informar de qual número ele deseja ver a tabuada. A saída deve ser conforme o exemplo abaixo:\n",
        "Tabuada de $5$:\n",
        "$$\n",
        "\\begin{eqnarray}\n",
        "5 \\times 1 &=& 5\\\\\n",
        "5 \\times 2 &=& 10\\\\\n",
        "...\\\\\n",
        "5 \\times 10 &=& 50\n",
        "\\end{eqnarray}\n",
        "$$"
      ]
    },
    {
      "metadata": {
        "id": "-cUPRYwLxpPj",
        "colab_type": "code",
        "colab": {
          "base_uri": "https://localhost:8080/",
          "height": 204
        },
        "outputId": "7398d10a-9172-4485-ae1e-271e70269612"
      },
      "cell_type": "code",
      "source": [
        "numero = int(input('Forneça um número: '))\n",
        "\n",
        "for i in range(10):\n",
        "  print(\"%d x %d = %d\" % (numero,i+1,numero*(i+1)))"
      ],
      "execution_count": 3,
      "outputs": [
        {
          "output_type": "stream",
          "text": [
            "Forneça um número: 5\n",
            "5 x 1 = 5\n",
            "5 x 2 = 10\n",
            "5 x 3 = 15\n",
            "5 x 4 = 20\n",
            "5 x 5 = 25\n",
            "5 x 6 = 30\n",
            "5 x 7 = 35\n",
            "5 x 8 = 40\n",
            "5 x 9 = 45\n",
            "5 x 10 = 50\n"
          ],
          "name": "stdout"
        }
      ]
    },
    {
      "metadata": {
        "id": "cQlBHCBwxpPl",
        "colab_type": "text"
      },
      "cell_type": "markdown",
      "source": [
        "### Exe. 3\n",
        "Escreva um programa que determine todos os números que são divisíveis por 7, mas não são um múltiplo de 5, entre 2000 e 3200 (ambos incluídos).\n",
        "Os números obtidos devem ser impressos em uma seqüência separada por vírgulas em uma única linha."
      ]
    },
    {
      "metadata": {
        "id": "V2aui15YxpPl",
        "colab_type": "code",
        "colab": {
          "base_uri": "https://localhost:8080/",
          "height": 114
        },
        "outputId": "be8c59a4-9472-4111-c489-74eb7b63dc8b"
      },
      "cell_type": "code",
      "source": [
        "numeros = [i for i in range(2000,3201) if ((i%7==0) and (i%5>0))]\n",
        "print(numeros)"
      ],
      "execution_count": 5,
      "outputs": [
        {
          "output_type": "stream",
          "text": [
            "[2002, 2009, 2016, 2023, 2037, 2044, 2051, 2058, 2072, 2079, 2086, 2093, 2107, 2114, 2121, 2128, 2142, 2149, 2156, 2163, 2177, 2184, 2191, 2198, 2212, 2219, 2226, 2233, 2247, 2254, 2261, 2268, 2282, 2289, 2296, 2303, 2317, 2324, 2331, 2338, 2352, 2359, 2366, 2373, 2387, 2394, 2401, 2408, 2422, 2429, 2436, 2443, 2457, 2464, 2471, 2478, 2492, 2499, 2506, 2513, 2527, 2534, 2541, 2548, 2562, 2569, 2576, 2583, 2597, 2604, 2611, 2618, 2632, 2639, 2646, 2653, 2667, 2674, 2681, 2688, 2702, 2709, 2716, 2723, 2737, 2744, 2751, 2758, 2772, 2779, 2786, 2793, 2807, 2814, 2821, 2828, 2842, 2849, 2856, 2863, 2877, 2884, 2891, 2898, 2912, 2919, 2926, 2933, 2947, 2954, 2961, 2968, 2982, 2989, 2996, 3003, 3017, 3024, 3031, 3038, 3052, 3059, 3066, 3073, 3087, 3094, 3101, 3108, 3122, 3129, 3136, 3143, 3157, 3164, 3171, 3178, 3192, 3199]\n"
          ],
          "name": "stdout"
        }
      ]
    },
    {
      "metadata": {
        "id": "P_aW9t69xpPm",
        "colab_type": "text"
      },
      "cell_type": "markdown",
      "source": [
        "### Exe.4\n",
        "Escreva um programa, que determine todos os números entre 1000 e 3000 (ambos incluídos), de tal forma que, cada dígito de número é um número par.\n",
        "Os números obtidos devem ser impressos em uma seqüência separada por vírgulas em uma única linha."
      ]
    },
    {
      "metadata": {
        "id": "W-NWYLK6xpPn",
        "colab_type": "code",
        "colab": {
          "base_uri": "https://localhost:8080/",
          "height": 114
        },
        "outputId": "65bc5c35-06d7-4307-c0a1-d5985db50064"
      },
      "cell_type": "code",
      "source": [
        "def checkn(n):\n",
        "  s = str(n)\n",
        "  for i in s:\n",
        "    if(int(i) % 2 != 0):\n",
        "      return False\n",
        "  else:\n",
        "    return True\n",
        "\n",
        "l = [i for i in range(1000,3001) if checkn(i)]\n",
        "print(l)"
      ],
      "execution_count": 8,
      "outputs": [
        {
          "output_type": "stream",
          "text": [
            "[2000, 2002, 2004, 2006, 2008, 2020, 2022, 2024, 2026, 2028, 2040, 2042, 2044, 2046, 2048, 2060, 2062, 2064, 2066, 2068, 2080, 2082, 2084, 2086, 2088, 2200, 2202, 2204, 2206, 2208, 2220, 2222, 2224, 2226, 2228, 2240, 2242, 2244, 2246, 2248, 2260, 2262, 2264, 2266, 2268, 2280, 2282, 2284, 2286, 2288, 2400, 2402, 2404, 2406, 2408, 2420, 2422, 2424, 2426, 2428, 2440, 2442, 2444, 2446, 2448, 2460, 2462, 2464, 2466, 2468, 2480, 2482, 2484, 2486, 2488, 2600, 2602, 2604, 2606, 2608, 2620, 2622, 2624, 2626, 2628, 2640, 2642, 2644, 2646, 2648, 2660, 2662, 2664, 2666, 2668, 2680, 2682, 2684, 2686, 2688, 2800, 2802, 2804, 2806, 2808, 2820, 2822, 2824, 2826, 2828, 2840, 2842, 2844, 2846, 2848, 2860, 2862, 2864, 2866, 2868, 2880, 2882, 2884, 2886, 2888]\n"
          ],
          "name": "stdout"
        }
      ]
    },
    {
      "metadata": {
        "id": "f6ERRrP-xpPp",
        "colab_type": "text"
      },
      "cell_type": "markdown",
      "source": [
        "### Exe. 5\n",
        "Faça um programa que mostre os números potência de 2 menores de 10000 da seguinte forma:\n",
        "```\n",
        "0001\n",
        "0002\n",
        "0004\n",
        "0008\n",
        "...\n",
        "8192\n",
        "```"
      ]
    },
    {
      "metadata": {
        "id": "ecafQsgVxpPq",
        "colab_type": "code",
        "colab": {
          "base_uri": "https://localhost:8080/",
          "height": 255
        },
        "outputId": "2def1fa1-76f9-44c7-9a5d-72d21b4ad5e0"
      },
      "cell_type": "code",
      "source": [
        "i = 0\n",
        "while(2**i < 10000):\n",
        "  print(str(2**i).zfill(4))\n",
        "  i += 1"
      ],
      "execution_count": 10,
      "outputs": [
        {
          "output_type": "stream",
          "text": [
            "0001\n",
            "0002\n",
            "0004\n",
            "0008\n",
            "0016\n",
            "0032\n",
            "0064\n",
            "0128\n",
            "0256\n",
            "0512\n",
            "1024\n",
            "2048\n",
            "4096\n",
            "8192\n"
          ],
          "name": "stdout"
        }
      ]
    },
    {
      "metadata": {
        "id": "n4zCfrtjxpPt",
        "colab_type": "text"
      },
      "cell_type": "markdown",
      "source": [
        "## Exercícios de Programação <a name=\"ExerProgramacao\"></a>"
      ]
    },
    {
      "metadata": {
        "id": "lRsnOJ8NxpPu",
        "colab_type": "text"
      },
      "cell_type": "markdown",
      "source": [
        "### Exe. 1\n",
        "Faça um programa que leia um número inteiro menor que 1000 e imprima a quantidade de centenas, dezenas e unidades do mesmo. Observando os termos no plural a colocação do “e”, da vírgula entre outros.\n",
        "\n",
        "Exemplo:\n",
        "* 326 = 3 centenas, 2 dezenas e 6 unidades\n",
        "* 12 = 1 dezena e 2 unidades\n",
        "\n",
        "Testar com: 326, 300, 100, 320, 310,305, 301, 101, 311, 111, 25, 20, 10, 21, 11, 1, 7 e 16 \n"
      ]
    },
    {
      "metadata": {
        "id": "ZBs1jjuqxpPu",
        "colab_type": "code",
        "colab": {
          "base_uri": "https://localhost:8080/",
          "height": 323
        },
        "outputId": "c5996ad6-bc47-40e8-c873-b83647da2d61"
      },
      "cell_type": "code",
      "source": [
        "def splitn(n):\n",
        "  c = n // 100\n",
        "  d = (n - c*100) // 10\n",
        "  u = (n - c*100 - d*10)\n",
        "  \n",
        "  s = []\n",
        "  \n",
        "  if(c > 0):\n",
        "    if(c == 1):\n",
        "      s.append(\"1 centena\")\n",
        "    else:\n",
        "      s.append(\"%d centenas\" % (c))\n",
        "  if(d > 0):\n",
        "    if(d == 1):\n",
        "      s.append(\"1 dezena\")\n",
        "    else:\n",
        "      s.append(\"%d dezenas\" % (d))\n",
        "  if(u > 0):\n",
        "    if(u == 1):\n",
        "      s.append(\"1 unidade\")\n",
        "    else:\n",
        "      s.append(\"%d unidades\" % (u))\n",
        "  \n",
        "  if(len(s) == 1):\n",
        "    return s[0]\n",
        "  elif(len(s) == 2):\n",
        "    return (s[0] + \" e \" + s[1])\n",
        "  else:\n",
        "    return (s[0] + \", \" + s[1] + \" e \" + s[2])\n",
        "\n",
        "l = [326, 300, 100, 320, 310,305, 301, 101, 311, 111, 25, 20, 10, 21, 11, 1, 7, 16]\n",
        "for i in l:\n",
        "  print(\"%i = %s\" % (i,splitn(i)))"
      ],
      "execution_count": 2,
      "outputs": [
        {
          "output_type": "stream",
          "text": [
            "326 = 3 centenas, 2 dezenas e 6 unidades\n",
            "300 = 3 centenas\n",
            "100 = 1 centena\n",
            "320 = 3 centenas e 2 dezenas\n",
            "310 = 3 centenas e 1 dezena\n",
            "305 = 3 centenas e 5 unidades\n",
            "301 = 3 centenas e 1 unidade\n",
            "101 = 1 centena e 1 unidade\n",
            "311 = 3 centenas, 1 dezena e 1 unidade\n",
            "111 = 1 centena, 1 dezena e 1 unidade\n",
            "25 = 2 dezenas e 5 unidades\n",
            "20 = 2 dezenas\n",
            "10 = 1 dezena\n",
            "21 = 2 dezenas e 1 unidade\n",
            "11 = 1 dezena e 1 unidade\n",
            "1 = 1 unidade\n",
            "7 = 7 unidades\n",
            "16 = 1 dezena e 6 unidades\n"
          ],
          "name": "stdout"
        }
      ]
    },
    {
      "metadata": {
        "id": "axiCWbetxpPx",
        "colab_type": "text"
      },
      "cell_type": "markdown",
      "source": [
        "### Exe. 2\n",
        "Faça um programa que mostre os $n$ termos da Série a seguir: \n",
        "$$\n",
        "S = \\frac{1}{1} + \\frac{2}{3} + \\frac{3}{5} + \\frac{4}{7} + \\frac{5}{9} + ... + \\frac{n}{m}. \n",
        "$$\n",
        "Imprima no final a soma da série. "
      ]
    },
    {
      "metadata": {
        "id": "cxav2c7gxpPx",
        "colab_type": "code",
        "colab": {
          "base_uri": "https://localhost:8080/",
          "height": 60
        },
        "outputId": "54f34de9-e1c9-4971-d006-e0e74f812163"
      },
      "cell_type": "code",
      "source": [
        "n = int(input(\"Informe o valor de 'n': \"))\n",
        "S = [(i,i*2-1) for i in range(1,n+1)]\n",
        "soma = 0\n",
        "if(n > 0):\n",
        "  print(\"S = \", end=\"\")\n",
        "for i in S:\n",
        "  soma += i[0]/i[1]\n",
        "  if(i[0] == 1):\n",
        "    print(\"(1/1)\", end=\"\")\n",
        "  else:\n",
        "    print(\"+ (%d/%d)\" % i, end=\"\")\n",
        "\n",
        "if(n > 0):\n",
        "  print(\" =\", soma)\n",
        "else:\n",
        "  print(\"S = 0\")"
      ],
      "execution_count": 5,
      "outputs": [
        {
          "output_type": "stream",
          "text": [
            "Informe o valor de 'n': 0\n",
            "S =  = 0\n"
          ],
          "name": "stdout"
        }
      ]
    },
    {
      "metadata": {
        "id": "mdJyzEMxxpP1",
        "colab_type": "text"
      },
      "cell_type": "markdown",
      "source": [
        "### Exe. 3\n",
        "Escreva uma função que, dada uma lista de inteiros não negativos, organize seus elementos de tal forma que eles formem o maior número possível. Por exemplo, dado [50, 2, 1, 9], o maior número formado é 95021."
      ]
    },
    {
      "metadata": {
        "id": "-IfdXaZExpP2",
        "colab_type": "code",
        "colab": {
          "base_uri": "https://localhost:8080/",
          "height": 34
        },
        "outputId": "8ed88f18-2271-42ff-afcc-bc0a7faa6c13"
      },
      "cell_type": "code",
      "source": [
        "lista = [50, 2, 1, 9]\n",
        "\n",
        "def organiza(lista):\n",
        "  slista = list(map(str, lista))\n",
        "  slista.sort()\n",
        "  slista.reverse()\n",
        "\n",
        "  s = \"\"\n",
        "  return s.join(slista)\n",
        "\n",
        "print(organiza(lista))"
      ],
      "execution_count": 8,
      "outputs": [
        {
          "output_type": "stream",
          "text": [
            "95021\n"
          ],
          "name": "stdout"
        }
      ]
    },
    {
      "metadata": {
        "id": "cT_b6WwCxpP3",
        "colab_type": "text"
      },
      "cell_type": "markdown",
      "source": [
        "### Exe. 4\n",
        "Escreva um programa que imprima todas as possibilidades para colocar + ou - ou nada entre os números 1, 2, ..., 9 (nesta ordem) de forma que o resultado seja sempre 100. Por exemplo: 1 + 2 + 34 - 5 + 67 - 8 + 9 = 100."
      ]
    },
    {
      "metadata": {
        "id": "uFtEMz2IxpP3",
        "colab_type": "code",
        "colab": {
          "base_uri": "https://localhost:8080/",
          "height": 204
        },
        "outputId": "6c862093-1466-4890-8e38-6808999a45df"
      },
      "cell_type": "code",
      "source": [
        "s = [' + ', ' - ', '']\n",
        "n = [[str(i)] for i in range(1,10)]\n",
        "d = []\n",
        "for i in n:\n",
        "  d.append(i)\n",
        "  if(i[0] < '9'):\n",
        "    d.append(s)\n",
        "\n",
        "op =[[]]\n",
        "for i in d:\n",
        "  op = [x + [j] for j in i for x in op]\n",
        "\n",
        "for i in op:\n",
        "  s = ''.join(i)\n",
        "  if(eval(s) == 100):\n",
        "    print(s)"
      ],
      "execution_count": 14,
      "outputs": [
        {
          "output_type": "stream",
          "text": [
            "1 + 23 - 4 + 56 + 7 + 8 + 9\n",
            "12 + 3 - 4 + 5 + 67 + 8 + 9\n",
            "1 + 2 + 34 - 5 + 67 - 8 + 9\n",
            "1 + 2 + 3 - 4 + 5 + 6 + 78 + 9\n",
            "123 - 4 - 5 - 6 - 7 + 8 - 9\n",
            "123 + 45 - 67 + 8 - 9\n",
            "1 + 23 - 4 + 5 + 6 + 78 - 9\n",
            "12 - 3 - 4 + 5 - 6 + 7 + 89\n",
            "12 + 3 + 4 + 5 - 6 - 7 + 89\n",
            "123 - 45 - 67 + 89\n",
            "123 + 4 - 5 + 67 - 89\n"
          ],
          "name": "stdout"
        }
      ]
    },
    {
      "metadata": {
        "id": "HLjooK7rxpP5",
        "colab_type": "text"
      },
      "cell_type": "markdown",
      "source": [
        "### Exe. 5\n",
        "Um site exige que para se registrar os usuários devem inserir o nome de usuário e a senha. \n",
        "Escreva um programa para verificar a validade da entrada da senha do usuário, considerando os seguintes critérios:\n",
        "1. Pelo menos 1 letra minúscula entre \\[a-z\\]\n",
        "1. Pelo menos 1 número entre \\[0-9\\]\n",
        "1. Pelo menos uma letra maiúscula entre \\[A-Z\\]\n",
        "1. Pelo menos 1 caractere de \\[\\$ \\# \\@\\]\n",
        "1. Comprimento mínimo da senha: 6\n",
        "1. Comprimento máximo da senha: 12\n",
        "\n",
        "<br/> Seu programa deve aceitar uma seqüência de senhas separadas por vírgulas e verificá-las de acordo com os critérios acima. As senhas que correspondem aos critérios devem ser impressas, cada uma separada por uma vírgula.\n",
        "\n",
        "<br/> Exemplo.\n",
        "<br/> Se as seguintes senhas são dadas como entrada para o programa:\n",
        "<br/> ABd1234 @ 1, um F1 #, 2w3E *, 2We3345\n",
        "<br/> Em seguida, a saída do programa deve ser:\n",
        "<br/> ABd1234 @ 1"
      ]
    },
    {
      "metadata": {
        "id": "WwwlMFZuxpP6",
        "colab_type": "code",
        "colab": {
          "base_uri": "https://localhost:8080/",
          "height": 60
        },
        "outputId": "7ed02e54-5370-4b6f-9991-3f9a860e1cf3"
      },
      "cell_type": "code",
      "source": [
        "def check1(t):\n",
        "  for i in t:\n",
        "    if((i >= 'a') and (i <= 'z')):\n",
        "      return True\n",
        "  return False\n",
        "\n",
        "def check2(t):\n",
        "  for i in t:\n",
        "    if((i >= '0') and (i <= '9')):\n",
        "      return True\n",
        "  return False\n",
        "\n",
        "def check3(t):\n",
        "  for i in t:\n",
        "    if((i >= 'A') and (i <= 'Z')):\n",
        "      return True\n",
        "  return False\n",
        "\n",
        "def check4(t):\n",
        "  for i in t:\n",
        "    if((i == '$') or (i == '#') or (i == '@')):\n",
        "      return True\n",
        "  return False\n",
        "\n",
        "def check5(t):\n",
        "  return len(t) >= 6\n",
        "\n",
        "def check6(t):\n",
        "  return len(t) <= 12\n",
        "\n",
        "entrada = input('Forneça as senhas separadas por vírgulas: ')\n",
        "s = [i for i in entrada.split(',') if (check1(i) and check2(i) and check3(i) and check4(i) and check5(i) and check6(i))]\n",
        "\n",
        "print(s)"
      ],
      "execution_count": 16,
      "outputs": [
        {
          "output_type": "stream",
          "text": [
            "Forneça as senhas separadas por vírgulas: ABd1234 @ 1,um F1 #,2w3E *,2We3345\n",
            "['ABd1234 @ 1', 'um F1 #']\n"
          ],
          "name": "stdout"
        }
      ]
    },
    {
      "metadata": {
        "id": "jYM-n1HqxpP8",
        "colab_type": "text"
      },
      "cell_type": "markdown",
      "source": [
        "### Exe. 6\n",
        "Um robô se move num plano partindo do ponto original (0,0). \n",
        "O robô pode-se mover nas direções ACIMA, ABAIXO, ESQUERDA e DIREITA, tal que, em cada direção pode-se deslocar um número determinado de passos. \n",
        "Por exemplo, podemos descrever o movimento do robô como:\n",
        "<br/>UP 5\n",
        "<br/>DOWN 3\n",
        "<br/>ESQUERDA 3\n",
        "<br/>RIGHT 2\n",
        "<br/>Onde, os números após a direção são os passos. \n",
        "\n",
        "Escreva um programa para calcular a distância da posição atual após uma seqüência de movimento a partir do ponto original.\n",
        "Se a distância for um float, basta imprimir o número inteiro mais próximo.\n",
        "\n",
        "<br/> Exemplo:\n",
        "<br/> Se as seguintes tuplas são dadas como entrada para o programa:\n",
        "<br/> [('UP',5),('DOWN',3),('ESQUERDA',3),('RIGHT',2)]\n",
        "<br/> Em seguida, a saída do programa deve ser:\n",
        "<br/> 3"
      ]
    },
    {
      "metadata": {
        "id": "MeAF6pk5xpP8",
        "colab_type": "code",
        "colab": {
          "base_uri": "https://localhost:8080/",
          "height": 60
        },
        "outputId": "b0aa9021-3990-4f05-f1ab-46c98edf3dd1"
      },
      "cell_type": "code",
      "source": [
        "import math\n",
        "comm = eval(input('Forneça uma lista de comandos: '))\n",
        "ponto = [0,0]\n",
        "for d,v in comm:\n",
        "  if((d == 'UP') or (d == 'CIMA')):\n",
        "    ponto[1] += v\n",
        "  elif((d == 'DOWN') or (d == 'BAIXO')):\n",
        "    ponto[1] -= v\n",
        "  elif((d == 'ESQUERDA') or (d == 'LEFT')):\n",
        "    ponto[0] -= v\n",
        "  elif((d == 'RIGHT') or (d == 'DIREITA')):\n",
        "    ponto[0] += v\n",
        "  else:\n",
        "    print(\"Erro comando\", d)\n",
        "\n",
        "print(round(math.sqrt((ponto[0]*ponto[0]) + (ponto[1]*ponto[1]))))"
      ],
      "execution_count": 4,
      "outputs": [
        {
          "output_type": "stream",
          "text": [
            "Forneça uma lista de comandos: [('UP',5),('DOWN',3),('ESQUERDA',3),('RIGHT',2)]\n",
            "2\n"
          ],
          "name": "stdout"
        }
      ]
    },
    {
      "metadata": {
        "id": "D5AEM_PoZUA3",
        "colab_type": "code",
        "colab": {}
      },
      "cell_type": "code",
      "source": [
        ""
      ],
      "execution_count": 0,
      "outputs": []
    }
  ]
}