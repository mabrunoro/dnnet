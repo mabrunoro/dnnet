{
  "nbformat": 4,
  "nbformat_minor": 0,
  "metadata": {
    "colab": {
      "name": "DL_LISTA_NUMPY_MT.ipynb",
      "version": "0.3.2",
      "provenance": [],
      "collapsed_sections": []
    },
    "kernelspec": {
      "display_name": "Python 3",
      "language": "python",
      "name": "python3"
    }
  },
  "cells": [
    {
      "metadata": {
        "id": "dBxqxLB-zePo",
        "colab_type": "text"
      },
      "cell_type": "markdown",
      "source": [
        "# Lista de exercícios sobre libraria Numpy"
      ]
    },
    {
      "metadata": {
        "id": "6Z5tMONEzePq",
        "colab_type": "text"
      },
      "cell_type": "markdown",
      "source": [
        "<br/>**Disciplina**: Introdução a redes neurais profundas 2018/2\n",
        "<br/>**Professor**: Jorge Leonid Aching Samatelo"
      ]
    },
    {
      "metadata": {
        "id": "eQovf0wszePr",
        "colab_type": "text"
      },
      "cell_type": "markdown",
      "source": [
        "**Aluno**: Pedro Farias"
      ]
    },
    {
      "metadata": {
        "id": "FPTDBmXhzePs",
        "colab_type": "text"
      },
      "cell_type": "markdown",
      "source": [
        "## Tabela de conteúdos\n",
        "1. [Indicações](#indicacoes)\n",
        "1. [Exercícios sobre Numpy](#ExerNumpy)\n",
        "1. [Exercícios de Programação](#ExerProgramacao)\n",
        "1. [Exercícios de Vetorização](#ExerVetor)"
      ]
    },
    {
      "metadata": {
        "id": "W2Rdue1fzePu",
        "colab_type": "text"
      },
      "cell_type": "markdown",
      "source": [
        "## Indicações <a name=\"indicacoes\"></a>\n",
        "\n",
        "### Considerações\n",
        "* Cada aluno enviará por e-mail a solução dos exercícios propostos, tais soluções devem ser inseridas neste mesmo arquivo. \n",
        "* Para saber sobre a libraria `numpy` é necessario ler os slides `NUMPY_2x2.pdf`.\n",
        "* Para saber cómo trabalhar com arquivos `*.ipynb` é necessario ler os slides `003_JUPYTER_2x2.pdf`.\n",
        "* Usar o interprete de `python 3.5`.\n",
        "\n",
        "### Prazo\n",
        "* Envio das soluções: 30/08/2018 - (23:59 hrs) \n",
        "\n",
        "### Procedimento para o envio das soluções\n",
        "* O arquivo `*.ipynb` com as soluções dos exercícios deve ser enviado ao email <jlasam001@gmail.com> com o assunto: `LISTA_EXERCICIO_NUMPY_2018_2`. \n",
        "* O nome do arquivo `*.ipynb` deve iniciar com o rotulo `DL_LISTA_NUMPY` seguido pelas iniciais do nome do aluno que soluciono os exercícios (por exemplo, o aluno Pedro Farias enviara o arquivo `DL_LISTA_NUMPY_PF.ipynb`).\n",
        "\n",
        "### Dicas execução\n",
        "* Carregue todos os pacotes que serão necessários no início do arquivo.\n",
        "* Para executar comandos da shell dentro do notebook, utilize o prefixo `!` antes do comando de shell. (e.g. para listar os arquivos da pasta atual faça `! ls` para UNIX ou `! dir` para Windows."
      ]
    },
    {
      "metadata": {
        "id": "zLkHtZo5zePu",
        "colab_type": "text"
      },
      "cell_type": "markdown",
      "source": [
        "## Exercícios sobre Numpy <a name=\"ExerString\"></a>"
      ]
    },
    {
      "metadata": {
        "id": "emr8l86GzePv",
        "colab_type": "text"
      },
      "cell_type": "markdown",
      "source": [
        "### Exe. 1\n",
        "Crie uma matriz nxn com valores 1,2,...,n-1 logo abaixo da diagonal.\n",
        "\n",
        "Exemplo: Considerando n = 4.\n",
        "```\n",
        "A = [0 0 0 0 0]\n",
        "    [1 0 0 0 0]\n",
        "    [0 2 0 0 0]\n",
        "    [0 0 3 0 0]\n",
        "    [0 0 0 4 0]\n",
        "```"
      ]
    },
    {
      "metadata": {
        "id": "KjXtSroPzePw",
        "colab_type": "code",
        "colab": {
          "base_uri": "https://localhost:8080/",
          "height": 102
        },
        "outputId": "a3e51e88-ff4e-4546-c670-050b324fa124"
      },
      "cell_type": "code",
      "source": [
        "import numpy as np\n",
        "n = 4\n",
        "\n",
        "A = np.zeros((n+1,n+1))\n",
        "A[1:,:-1] = np.diag(np.arange(1,n+1))\n",
        "print(A)"
      ],
      "execution_count": 11,
      "outputs": [
        {
          "output_type": "stream",
          "text": [
            "[[0. 0. 0. 0. 0.]\n",
            " [1. 0. 0. 0. 0.]\n",
            " [0. 2. 0. 0. 0.]\n",
            " [0. 0. 3. 0. 0.]\n",
            " [0. 0. 0. 4. 0.]]\n"
          ],
          "name": "stdout"
        }
      ]
    },
    {
      "metadata": {
        "id": "uwsm6wJJzeP8",
        "colab_type": "text"
      },
      "cell_type": "markdown",
      "source": [
        "### Exe. 2\n",
        "Crie uma matriz nxn com 1 na borda e 0 dentro.\n",
        "\n",
        "Exemplo: Considerando n = 10.\n",
        "```\n",
        "Z = [ 1.  1.  1.  1.  1.  1.  1.  1.  1.  1.]\n",
        "    [ 1.  0.  0.  0.  0.  0.  0.  0.  0.  1.]\n",
        "    [ 1.  0.  0.  0.  0.  0.  0.  0.  0.  1.]\n",
        "    [ 1.  0.  0.  0.  0.  0.  0.  0.  0.  1.]\n",
        "    [ 1.  0.  0.  0.  0.  0.  0.  0.  0.  1.]\n",
        "    [ 1.  0.  0.  0.  0.  0.  0.  0.  0.  1.]\n",
        "    [ 1.  0.  0.  0.  0.  0.  0.  0.  0.  1.]\n",
        "    [ 1.  0.  0.  0.  0.  0.  0.  0.  0.  1.]\n",
        "    [ 1.  0.  0.  0.  0.  0.  0.  0.  0.  1.]\n",
        "    [ 1.  1.  1.  1.  1.  1.  1.  1.  1.  1.]\n",
        "```"
      ]
    },
    {
      "metadata": {
        "id": "Lsq3atquzeP9",
        "colab_type": "code",
        "colab": {
          "base_uri": "https://localhost:8080/",
          "height": 187
        },
        "outputId": "cb72d6de-ef59-4d90-df1b-ce918bb73986"
      },
      "cell_type": "code",
      "source": [
        "import numpy as np\n",
        "n = 10\n",
        "\n",
        "Z = np.ones((n,n))\n",
        "Z[1:-1,1:-1] = 0\n",
        "print(Z)"
      ],
      "execution_count": 13,
      "outputs": [
        {
          "output_type": "stream",
          "text": [
            "[[1. 1. 1. 1. 1. 1. 1. 1. 1. 1.]\n",
            " [1. 0. 0. 0. 0. 0. 0. 0. 0. 1.]\n",
            " [1. 0. 0. 0. 0. 0. 0. 0. 0. 1.]\n",
            " [1. 0. 0. 0. 0. 0. 0. 0. 0. 1.]\n",
            " [1. 0. 0. 0. 0. 0. 0. 0. 0. 1.]\n",
            " [1. 0. 0. 0. 0. 0. 0. 0. 0. 1.]\n",
            " [1. 0. 0. 0. 0. 0. 0. 0. 0. 1.]\n",
            " [1. 0. 0. 0. 0. 0. 0. 0. 0. 1.]\n",
            " [1. 0. 0. 0. 0. 0. 0. 0. 0. 1.]\n",
            " [1. 1. 1. 1. 1. 1. 1. 1. 1. 1.]]\n"
          ],
          "name": "stdout"
        }
      ]
    },
    {
      "metadata": {
        "id": "lhG2U1lFzeQF",
        "colab_type": "text"
      },
      "cell_type": "markdown",
      "source": [
        "### Exe. 3\n",
        "Crie uma matriz nxn, com n par, e preenchê-lo com um padrão de xadrez.\n",
        "\n",
        "Exemplo: Considerando n = 8.\n",
        "```\n",
        "Z = [0 1 0 1 0 1 0 1]\n",
        "    [1 0 1 0 1 0 1 0]\n",
        "    [0 1 0 1 0 1 0 1]\n",
        "    [1 0 1 0 1 0 1 0]\n",
        "    [0 1 0 1 0 1 0 1]\n",
        "    [1 0 1 0 1 0 1 0]\n",
        "    [0 1 0 1 0 1 0 1]\n",
        "    [1 0 1 0 1 0 1 0]\n",
        "```"
      ]
    },
    {
      "metadata": {
        "id": "ea-SY5w6zeQG",
        "colab_type": "code",
        "colab": {
          "base_uri": "https://localhost:8080/",
          "height": 153
        },
        "outputId": "dcd25afd-c05a-4d07-aa65-d0ba839a9901"
      },
      "cell_type": "code",
      "source": [
        "import numpy as np\n",
        "n = 8\n",
        "\n",
        "Z = np.ones((n,n))\n",
        "Z[::2,::2] = 0\n",
        "Z[1::2,1::2] = 0\n",
        "print(Z)"
      ],
      "execution_count": 23,
      "outputs": [
        {
          "output_type": "stream",
          "text": [
            "[[0. 1. 0. 1. 0. 1. 0. 1.]\n",
            " [1. 0. 1. 0. 1. 0. 1. 0.]\n",
            " [0. 1. 0. 1. 0. 1. 0. 1.]\n",
            " [1. 0. 1. 0. 1. 0. 1. 0.]\n",
            " [0. 1. 0. 1. 0. 1. 0. 1.]\n",
            " [1. 0. 1. 0. 1. 0. 1. 0.]\n",
            " [0. 1. 0. 1. 0. 1. 0. 1.]\n",
            " [1. 0. 1. 0. 1. 0. 1. 0.]]\n"
          ],
          "name": "stdout"
        }
      ]
    },
    {
      "metadata": {
        "id": "j7i-qqh0zeQL",
        "colab_type": "text"
      },
      "cell_type": "markdown",
      "source": [
        "### Exe. 4\n",
        "Criar um vetor de tamanho 10 inicializada com valores entre $<0,1>$.\n",
        "\n",
        "Exemplo:\n",
        "```\n",
        "Z= [0.091 0.181 0.272 0.363 0.454 0.545 0.636 0.727 0.818 0.909]\n",
        "```"
      ]
    },
    {
      "metadata": {
        "id": "u8VZXF_PzeQM",
        "colab_type": "code",
        "colab": {
          "base_uri": "https://localhost:8080/",
          "height": 34
        },
        "outputId": "13e4e4cc-3447-462f-9a59-535eab881209"
      },
      "cell_type": "code",
      "source": [
        "import numpy as np\n",
        "n = 10\n",
        "\n",
        "Z = np.linspace(0,1,n+2).round(3)[1:-1]\n",
        "print(Z)"
      ],
      "execution_count": 29,
      "outputs": [
        {
          "output_type": "stream",
          "text": [
            "[0.091 0.182 0.273 0.364 0.455 0.545 0.636 0.727 0.818 0.909]\n"
          ],
          "name": "stdout"
        }
      ]
    },
    {
      "metadata": {
        "id": "p5qb6lX1zeQR",
        "colab_type": "text"
      },
      "cell_type": "markdown",
      "source": [
        "### Exe. 5\n",
        "Dado um array, negar todos os elementos que estão entre 3 e 8.\n",
        "\n",
        "Exemplo:\n",
        "```\n",
        "Zorg =  [ 0  1  2  3  4  5  6  7  8  9 10]\n",
        "Ztrf =  [ 0  1  2  3 -4 -5 -6 -7 -8  9 10]\n",
        "```"
      ]
    },
    {
      "metadata": {
        "id": "9ptcpnbnzeQS",
        "colab_type": "code",
        "colab": {
          "base_uri": "https://localhost:8080/",
          "height": 51
        },
        "outputId": "9a94474c-f9fe-49b9-fbf1-a8977302d690"
      },
      "cell_type": "code",
      "source": [
        "import numpy as np\n",
        "n = 10\n",
        "a = 3\n",
        "b = 8\n",
        "\n",
        "Zorg = np.arange(0, n+1)\n",
        "o = np.ones(n+1)\n",
        "o[np.logical_and(Zorg > a, Zorg <= b)] = -1\n",
        "Ztrf = Zorg*o\n",
        "\n",
        "print('Zorg =', Zorg)\n",
        "print('Ztrf =', Ztrf)"
      ],
      "execution_count": 32,
      "outputs": [
        {
          "output_type": "stream",
          "text": [
            "Zorg = [ 0  1  2  3  4  5  6  7  8  9 10]\n",
            "Ztrf = [ 0.  1.  2.  3. -4. -5. -6. -7. -8.  9. 10.]\n"
          ],
          "name": "stdout"
        }
      ]
    },
    {
      "metadata": {
        "id": "aByGumsczeQY",
        "colab_type": "text"
      },
      "cell_type": "markdown",
      "source": [
        "### Exe. 6\n",
        "Extraia a parte inteira de uma array de números aleatórios entre  1.0 e 10.0 usando 5 métodos diferentes.\n",
        "\n",
        "Exemplo (para um caso):\n",
        "```\n",
        "Z  =  [7.497 6.573 9.946 2.645 2.501 8.911 4.301 9.643 4.361 4.128]\n",
        "Z1 =  [ 7.  6.  9.  2.  2.  8.  4.  9.  4.  4.]\n",
        "```"
      ]
    },
    {
      "metadata": {
        "id": "Mfvs6Zs9zeQZ",
        "colab_type": "code",
        "colab": {
          "base_uri": "https://localhost:8080/",
          "height": 102
        },
        "outputId": "4bd48f0b-86f9-4814-85b4-eacdd5f00c56"
      },
      "cell_type": "code",
      "source": [
        "import numpy as np\n",
        "import math\n",
        "\n",
        "Z = np.array([7.497, 6.573, 9.946, 2.645, 2.501, 8.911, 4.301, 9.643, 4.361, 4.128])\n",
        "\n",
        "print('map + int:', list(map(int,Z)))\n",
        "print('map + math.floor:', list(map(math.floor,Z)))\n",
        "print('int division:', Z//1)\n",
        "print('real subtraction:', Z - Z%1)\n",
        "print('np.floor:', np.floor(Z))"
      ],
      "execution_count": 5,
      "outputs": [
        {
          "output_type": "stream",
          "text": [
            "map + int: [7, 6, 9, 2, 2, 8, 4, 9, 4, 4]\n",
            "map + math.floor: [7, 6, 9, 2, 2, 8, 4, 9, 4, 4]\n",
            "int division: [7. 6. 9. 2. 2. 8. 4. 9. 4. 4.]\n",
            "real subtraction: [7. 6. 9. 2. 2. 8. 4. 9. 4. 4.]\n",
            "np.floor: [7. 6. 9. 2. 2. 8. 4. 9. 4. 4.]\n"
          ],
          "name": "stdout"
        }
      ]
    },
    {
      "metadata": {
        "id": "JVWIcOndzeQi",
        "colab_type": "text"
      },
      "cell_type": "markdown",
      "source": [
        "### Exe. 7\n",
        "Considere dois arrays $A$ e $B$ aleatórios inicializados com valores aleatorios inteiros, verifique se eles são iguais.\n",
        "\n",
        "Exemplo:\n",
        "```\n",
        "A =  [2 2 0 2 1]\n",
        "B =  [1 0 2 3 3]\n",
        "False\n",
        "```"
      ]
    },
    {
      "metadata": {
        "id": "9t0BHEwKzeQi",
        "colab_type": "code",
        "colab": {
          "base_uri": "https://localhost:8080/",
          "height": 34
        },
        "outputId": "5680b7d7-36cf-4dd5-9381-c76d3f307528"
      },
      "cell_type": "code",
      "source": [
        "import numpy as np\n",
        "A = [2, 2, 0, 2, 1]\n",
        "B = [1, 0, 2, 3, 3]\n",
        "\n",
        "print(np.all(A==B))"
      ],
      "execution_count": 35,
      "outputs": [
        {
          "output_type": "stream",
          "text": [
            "False\n"
          ],
          "name": "stdout"
        }
      ]
    },
    {
      "metadata": {
        "id": "WNZaQoAZzeQo",
        "colab_type": "text"
      },
      "cell_type": "markdown",
      "source": [
        "### Exe. 8\n",
        "Considere uma matriz aleatória de 10x2 que representa coordenadas cartesianas, converta-as em coordenadas polares."
      ]
    },
    {
      "metadata": {
        "id": "w31hmXDfzeQp",
        "colab_type": "code",
        "colab": {
          "base_uri": "https://localhost:8080/",
          "height": 391
        },
        "outputId": "e5a026ed-b7af-4ad3-b35a-06cdcd132d8b"
      },
      "cell_type": "code",
      "source": [
        "import numpy as np\n",
        "\n",
        "ma = np.random.rand(10,2)\n",
        "mp = np.array([np.sqrt(ma[:,0]*ma[:,0] + ma[:,1]*ma[:,1]), np.arctan2(ma[:,0],ma[:,1])]).T\n",
        "\n",
        "print('Matriz original:')\n",
        "print(ma)\n",
        "print('Matriz polar (abs rad):')\n",
        "print(mp)"
      ],
      "execution_count": 7,
      "outputs": [
        {
          "output_type": "stream",
          "text": [
            "Matriz original:\n",
            "[[0.56829638 0.08525298]\n",
            " [0.32352595 0.29937833]\n",
            " [0.12696194 0.56039727]\n",
            " [0.69242015 0.0538566 ]\n",
            " [0.91995464 0.56530957]\n",
            " [0.57101722 0.69318614]\n",
            " [0.10345961 0.97754638]\n",
            " [0.08317548 0.10020284]\n",
            " [0.15968475 0.40378006]\n",
            " [0.41821997 0.40395223]]\n",
            "Matriz polar:\n",
            "[[0.57465542 1.42189172]\n",
            " [0.44079068 0.82414494]\n",
            " [0.57459937 0.22279595]\n",
            " [0.69451148 1.49317239]\n",
            " [1.07976453 1.01978525]\n",
            " [0.89809114 0.68906023]\n",
            " [0.98300601 0.10544348]\n",
            " [0.13022584 0.69280996]\n",
            " [0.43420911 0.37659908]\n",
            " [0.58145107 0.80275012]]\n"
          ],
          "name": "stdout"
        }
      ]
    },
    {
      "metadata": {
        "id": "r8U0WWkjzeQw",
        "colab_type": "text"
      },
      "cell_type": "markdown",
      "source": [
        "### Exe. 9\n",
        "Considere o vetor [1, 2, 3, 4, 5], como construir um novo vetor com 3 zeros consecutivos intercalados entre cada valor.\n",
        "\n",
        "Exemplo:\n",
        "```\n",
        "Zorg =  [1 2 3 4 5]\n",
        "Z000 =  [ 1.  0.  0.  0.  2.  0.  0.  0.  3.  0.  0.  0.  4.  0.  0.  0.  5.]\n",
        "```"
      ]
    },
    {
      "metadata": {
        "id": "55W8xoLizeQw",
        "colab_type": "code",
        "colab": {
          "base_uri": "https://localhost:8080/",
          "height": 34
        },
        "outputId": "05e5957d-a4cd-4868-a412-9f14efd998bb"
      },
      "cell_type": "code",
      "source": [
        "import numpy as np\n",
        "\n",
        "Zorg = np.array([1, 2, 3, 4, 5])\n",
        "Z000 = np.zeros(Zorg.shape[0]*4 - 3)\n",
        "Z000[::4] = Zorg\n",
        "\n",
        "print('Z000 =',Z000)"
      ],
      "execution_count": 9,
      "outputs": [
        {
          "output_type": "stream",
          "text": [
            "Z000 = [1. 0. 0. 0. 2. 0. 0. 0. 3. 0. 0. 0. 4. 0. 0. 0. 5.]\n"
          ],
          "name": "stdout"
        }
      ]
    },
    {
      "metadata": {
        "id": "1fx3GJPOzeQ1",
        "colab_type": "text"
      },
      "cell_type": "markdown",
      "source": [
        "### Exe. 10\n",
        "Encontre o valor mais próximo de um dado valor em um array.\n",
        "\n",
        "Exemplo:\n",
        "```\n",
        "Z =  [0.198 0.825 0.057 0.695 0.0333 0.793 0.526 0.547 0.787  0.656]\n",
        "valor =  0.5\n",
        "valor proximo em Z = 0.526929001754\n",
        "```"
      ]
    },
    {
      "metadata": {
        "id": "ZhfJHsC1zeQ1",
        "colab_type": "code",
        "colab": {
          "base_uri": "https://localhost:8080/",
          "height": 68
        },
        "outputId": "b11a3544-ebfb-4c08-b098-922217113e92"
      },
      "cell_type": "code",
      "source": [
        "import numpy as np\n",
        "\n",
        "Z = np.random.rand(10) # pode também ser utilizado\n",
        "# Z = np.array([0.198, 0.825, 0.057, 0.695, 0.0333, 0.793, 0.526, 0.547, 0.787, 0.656])\n",
        "valor = 0.5\n",
        "\n",
        "print('Z =', Z)\n",
        "print('Valor próximo em Z =', Z[np.argmin(np.abs(Z - valor))])"
      ],
      "execution_count": 14,
      "outputs": [
        {
          "output_type": "stream",
          "text": [
            "Z = [0.32488443 0.65100676 0.12679017 0.19735557 0.0293183  0.14532546\n",
            " 0.38191871 0.8476697  0.54467516 0.17553996]\n",
            "Valor próximo em Z = 0.544675159497436\n"
          ],
          "name": "stdout"
        }
      ]
    },
    {
      "metadata": {
        "id": "dBzWjML9zeQ5",
        "colab_type": "text"
      },
      "cell_type": "markdown",
      "source": [
        "## Exercícios de Programação <a name=\"ExerProgramacao\"></a>"
      ]
    },
    {
      "metadata": {
        "id": "b1UqxmY0zeQ6",
        "colab_type": "text"
      },
      "cell_type": "markdown",
      "source": [
        "### Exe. 1\n",
        "\n",
        "Como encontrar o valor mais freqüente em um array?\n",
        "\n",
        "Exemplo:\n",
        "```\n",
        "Z = [8 1 8 1 9 6 2 7 0 1 7 1 6 7 9 6 0 2 1 9 8 9 0 6 9 7 1 4 2 8 1 6 4 6 1 3 5 0 1 1 5 5 0 9 4 9 9 1 1 2]\n",
        "ValMoreFreq = 1\n",
        "```"
      ]
    },
    {
      "metadata": {
        "id": "lI6Vq9ZVzeQ6",
        "colab_type": "code",
        "colab": {
          "base_uri": "https://localhost:8080/",
          "height": 68
        },
        "outputId": "422e2f42-1857-49f1-eb88-06e7d1a6de81"
      },
      "cell_type": "code",
      "source": [
        "import numpy as np\n",
        "\n",
        "Z = np.random.randint(10, size=50)\n",
        "\n",
        "print('Z =', Z)\n",
        "aux = np.unique(Z, return_counts=True)\n",
        "print('Valor mais frequente =', aux[0][np.argmax(aux[1])])"
      ],
      "execution_count": 18,
      "outputs": [
        {
          "output_type": "stream",
          "text": [
            "Z = [8 8 4 8 4 7 9 2 2 7 4 2 4 6 2 4 2 8 4 4 2 7 6 3 4 5 6 8 7 8 1 9 9 9 6 3 9\n",
            " 4 9 8 9 0 5 4 3 6 7 1 2 9]\n",
            "Valor mais frequente = 4\n"
          ],
          "name": "stdout"
        }
      ]
    },
    {
      "metadata": {
        "id": "-3ejiMVIzeRE",
        "colab_type": "text"
      },
      "cell_type": "markdown",
      "source": [
        "### Exe. 2\n",
        "\n",
        "Considere duas matrizes A e B de forma (8,3) e (2,2). Como encontrar as linhas de A que contêm elementos de cada linha de B independentemente da ordem dos elementos em B? \n",
        "\n",
        "Exemplo:\n",
        "```\n",
        "A = [[2 1 4]\n",
        "     [3 2 2]\n",
        "     [3 4 1]\n",
        "     [3 0 0]\n",
        "     [4 3 4]\n",
        "     [0 0 1]\n",
        "     [2 1 4]\n",
        "     [0 3 1]]\n",
        "B = [[1 4]\n",
        "     [2 4]]\n",
        "rows = [0 1 2 4 6]\n",
        "```"
      ]
    },
    {
      "metadata": {
        "id": "DsXrwRXazeRF",
        "colab_type": "code",
        "colab": {
          "base_uri": "https://localhost:8080/",
          "height": 34
        },
        "outputId": "eadd9ea2-b0c3-4486-c431-a46cb062b949"
      },
      "cell_type": "code",
      "source": [
        "import numpy as np\n",
        "\n",
        "A = np.array([[2, 1, 4], [3, 2, 2], [3, 4, 1], [3, 0, 0], [4, 3, 4], [0, 0, 1], [2, 1, 4], [0, 3, 1]])\n",
        "B = np.array([[1,4], [2,4]])\n",
        "\n",
        "c = np.isin(A,B)\n",
        "\n",
        "print('rows =',np.arange(A.shape[0])[np.logical_or(np.logical_or(np.logical_and(c[:,0],c[:,1]),np.logical_and(c[:,0],c[:,2])), np.logical_and(c[:,1],c[:,2]))])\n",
        "\n",
        "# a solução, segundo a questão como foi formulada, deveria retornar [0 2 6], e é apresentada abaixo\n",
        "# print(np.arange(A.shape[0])[list(map(lambda x: ((B[0,0] in x) and (B[0,1] in x)) or ((B[1,0] in x) and (B[1,1] in x)),A))])"
      ],
      "execution_count": 22,
      "outputs": [
        {
          "output_type": "stream",
          "text": [
            "rows = [0 1 2 4 6]\n"
          ],
          "name": "stdout"
        }
      ]
    },
    {
      "metadata": {
        "id": "a_5vXcyMzeRR",
        "colab_type": "text"
      },
      "cell_type": "markdown",
      "source": [
        "### Exe. 3\n",
        "Dado um array bidimensional, como extrair linhas unicas?\n",
        "\n",
        "Exemplo:\n",
        "```\n",
        "Z = [[0 0 1]\n",
        "     [1 0 0]\n",
        "     [1 1 0]\n",
        "     [1 1 1]\n",
        "     [0 1 1]\n",
        "     [1 1 0]]\n",
        "Zu = [[0 0 1]\n",
        "      [0 1 1]\n",
        "      [1 0 0]\n",
        "      [1 1 0]\n",
        "      [1 1 1]]\n",
        "```"
      ]
    },
    {
      "metadata": {
        "id": "WEBaC34YzeRS",
        "colab_type": "code",
        "colab": {
          "base_uri": "https://localhost:8080/",
          "height": 102
        },
        "outputId": "e783ca4d-d2fd-407e-f6c9-05b5921f0b34"
      },
      "cell_type": "code",
      "source": [
        "import numpy as np\n",
        "\n",
        "Z = np.array([[0, 0, 1],[1, 0, 0],[1, 1, 0],[1, 1, 1],[0, 1, 1],[1, 1, 0]])\n",
        "Zs = np.array(list(map(str,Z)))\n",
        "\n",
        "print(Z[np.unique(Zs, return_index=True)[1]])"
      ],
      "execution_count": 25,
      "outputs": [
        {
          "output_type": "stream",
          "text": [
            "[[0 0 1]\n",
            " [0 1 1]\n",
            " [1 0 0]\n",
            " [1 1 0]\n",
            " [1 1 1]]\n"
          ],
          "name": "stdout"
        }
      ]
    },
    {
      "metadata": {
        "id": "gUsmB0nPzeRW",
        "colab_type": "text"
      },
      "cell_type": "markdown",
      "source": [
        "### Exe. 4\n",
        "Converter um vetor de inteiros em uma matriz que seja sua representação binária.\n",
        "\n",
        "Exemplo:\n",
        "```\n",
        "I = [0 1 2 3 15 16 32 64 128]\n",
        "B = [[0 0 0 0 0 0 0 0]\n",
        "     [0 0 0 0 0 0 0 1]\n",
        "     [0 0 0 0 0 0 1 0]\n",
        "     [0 0 0 0 0 0 1 1]\n",
        "     [0 0 0 0 1 1 1 1]\n",
        "     [0 0 0 1 0 0 0 0]\n",
        "     [0 0 1 0 0 0 0 0]\n",
        "     [0 1 0 0 0 0 0 0]\n",
        "     [1 0 0 0 0 0 0 0]]\n",
        "```"
      ]
    },
    {
      "metadata": {
        "id": "nyQF2eR8zeRW",
        "colab_type": "code",
        "colab": {
          "base_uri": "https://localhost:8080/",
          "height": 170
        },
        "outputId": "1d5c880e-db29-4ee7-af13-406147dd7f57"
      },
      "cell_type": "code",
      "source": [
        "import numpy as np\n",
        "\n",
        "I = np.array([0, 1, 2, 3, 15, 16, 32, 64, 128], dtype=np.uint8)\n",
        "Ir = I.reshape(I.shape[0],1)\n",
        "B = np.unpackbits(Ir, axis=1)\n",
        "\n",
        "print('B =', B)"
      ],
      "execution_count": 26,
      "outputs": [
        {
          "output_type": "stream",
          "text": [
            "B = [[0 0 0 0 0 0 0 0]\n",
            " [0 0 0 0 0 0 0 1]\n",
            " [0 0 0 0 0 0 1 0]\n",
            " [0 0 0 0 0 0 1 1]\n",
            " [0 0 0 0 1 1 1 1]\n",
            " [0 0 0 1 0 0 0 0]\n",
            " [0 0 1 0 0 0 0 0]\n",
            " [0 1 0 0 0 0 0 0]\n",
            " [1 0 0 0 0 0 0 0]]\n"
          ],
          "name": "stdout"
        }
      ]
    },
    {
      "metadata": {
        "id": "yb8eaPMGzeRc",
        "colab_type": "text"
      },
      "cell_type": "markdown",
      "source": [
        "### Exe. 5\n",
        "Considerando uma matriz 10x3, extraia linhas com valores desiguais (por exemplo, [2,2,3])\n",
        "\n",
        "Exemplo:\n",
        "```\n",
        "Z = [[2 2 0]\n",
        "     [1 1 3]\n",
        "     [4 3 3]\n",
        "     [1 0 1]\n",
        "     [2 2 2]\n",
        "     [2 3 3]\n",
        "     [1 1 0]\n",
        "     [0 2 0]\n",
        "     [4 4 0]\n",
        "     [4 2 3]]\n",
        "Zd = [[2 2 0]\n",
        "      [1 1 3]\n",
        "      [4 3 3]\n",
        "      [1 0 1]\n",
        "      [2 3 3]\n",
        "      [1 1 0]\n",
        "      [0 2 0]\n",
        "      [4 4 0]\n",
        "      [4 2 3]]\n",
        "```"
      ]
    },
    {
      "metadata": {
        "id": "k6S316iFzeRd",
        "colab_type": "code",
        "colab": {
          "base_uri": "https://localhost:8080/",
          "height": 170
        },
        "outputId": "65078513-671f-48db-a35a-c6f1bc2f6ed0"
      },
      "cell_type": "code",
      "source": [
        "import numpy as np\n",
        "\n",
        "Z = np.array([[2,2,0],[1,1,3],[4,3,3],[1,0,1],[2,2,2],[2,3,3],[1,1,0],[0,2,0],[4,4,0],[4,2,3]])\n",
        "# Zd = np.array([[2, 2, 0],[1, 1, 3],[4, 3, 3],[1, 0, 1],[2, 3, 3],[1, 1, 0],[0, 2, 0],[4, 4, 0],[4, 2, 3]])\n",
        "\n",
        "d = list(map(lambda x: (x[0] == x[1]) and (x[1] == x[2]), Z))\n",
        "\n",
        "print(Z[np.logical_not(d)])"
      ],
      "execution_count": 28,
      "outputs": [
        {
          "output_type": "stream",
          "text": [
            "[[2 2 0]\n",
            " [1 1 3]\n",
            " [4 3 3]\n",
            " [1 0 1]\n",
            " [2 3 3]\n",
            " [1 1 0]\n",
            " [0 2 0]\n",
            " [4 4 0]\n",
            " [4 2 3]]\n"
          ],
          "name": "stdout"
        }
      ]
    },
    {
      "metadata": {
        "id": "9bwB13ec8tMp",
        "colab_type": "text"
      },
      "cell_type": "markdown",
      "source": [
        "## Exercícios de Vetorização <a name=\"ExerVetor\"></a>"
      ]
    },
    {
      "metadata": {
        "id": "VYWDuCGH86ER",
        "colab_type": "text"
      },
      "cell_type": "markdown",
      "source": [
        "### Exe. 1\n",
        "Sejam $𝐴$ e $𝐵$ matrizes de tamanho $10 \\times 100$, calcule a **distância cosseno** entre suas as respectivas linhas. \n",
        " * Não deve ser usado nenhum tipo de laço iterativo nem a biblioteca do `scikitlearn`. \n",
        " * Tudo deve ser feito de forma matricial. \n",
        " \n",
        "A **distância cosseno** entre as linhas $i$-ésimas das matrizes $𝐴$ e $𝐵$ é dada pela expressção:\n",
        "$$\n",
        "𝑑_{c}=1 − 𝑐𝑜𝑠(a_{𝑖,:},b_{𝑖,:})\n",
        "$$\n",
        "\n",
        "Exemplo:\n",
        "```\n",
        "A = np.ones((10,100))  \n",
        "B = np.reshape(np.arange(10*100),(10,100))\n",
        "dist_cos = [0.13615328 0.0181352  0.0066263  0.00339341 0.00205563 0.00137693\n",
        " 0.00098615 0.00074083 0.00057682 0.0004618 ]\n",
        "\n",
        "```"
      ]
    },
    {
      "metadata": {
        "id": "D8WwXxbV89tA",
        "colab_type": "code",
        "colab": {
          "base_uri": "https://localhost:8080/",
          "height": 357
        },
        "outputId": "277e81fe-0214-4d96-8543-bc850b628979"
      },
      "cell_type": "code",
      "source": [
        "import numpy as np\n",
        "import math\n",
        "\n",
        "A = np.ones((10,100))  \n",
        "B = np.reshape(np.arange(10*100),(10,100))\n",
        "\n",
        "dc = 1 - A.dot(B.T)/(np.linalg.norm(A,axis=1) * np.linalg.norm(B,axis=1))\n",
        "print(dc)"
      ],
      "execution_count": 6,
      "outputs": [
        {
          "output_type": "stream",
          "text": [
            "[[0.13615328 0.0181352  0.0066263  0.00339341 0.00205563 0.00137693\n",
            "  0.00098615 0.00074083 0.00057682 0.0004618 ]\n",
            " [0.13615328 0.0181352  0.0066263  0.00339341 0.00205563 0.00137693\n",
            "  0.00098615 0.00074083 0.00057682 0.0004618 ]\n",
            " [0.13615328 0.0181352  0.0066263  0.00339341 0.00205563 0.00137693\n",
            "  0.00098615 0.00074083 0.00057682 0.0004618 ]\n",
            " [0.13615328 0.0181352  0.0066263  0.00339341 0.00205563 0.00137693\n",
            "  0.00098615 0.00074083 0.00057682 0.0004618 ]\n",
            " [0.13615328 0.0181352  0.0066263  0.00339341 0.00205563 0.00137693\n",
            "  0.00098615 0.00074083 0.00057682 0.0004618 ]\n",
            " [0.13615328 0.0181352  0.0066263  0.00339341 0.00205563 0.00137693\n",
            "  0.00098615 0.00074083 0.00057682 0.0004618 ]\n",
            " [0.13615328 0.0181352  0.0066263  0.00339341 0.00205563 0.00137693\n",
            "  0.00098615 0.00074083 0.00057682 0.0004618 ]\n",
            " [0.13615328 0.0181352  0.0066263  0.00339341 0.00205563 0.00137693\n",
            "  0.00098615 0.00074083 0.00057682 0.0004618 ]\n",
            " [0.13615328 0.0181352  0.0066263  0.00339341 0.00205563 0.00137693\n",
            "  0.00098615 0.00074083 0.00057682 0.0004618 ]\n",
            " [0.13615328 0.0181352  0.0066263  0.00339341 0.00205563 0.00137693\n",
            "  0.00098615 0.00074083 0.00057682 0.0004618 ]]\n"
          ],
          "name": "stdout"
        }
      ]
    },
    {
      "metadata": {
        "id": "CPxLVszQJq_S",
        "colab_type": "code",
        "colab": {}
      },
      "cell_type": "code",
      "source": [
        ""
      ],
      "execution_count": 0,
      "outputs": []
    }
  ]
}