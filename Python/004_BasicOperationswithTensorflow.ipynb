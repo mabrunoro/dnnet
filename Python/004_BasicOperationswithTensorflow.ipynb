{
  "nbformat": 4,
  "nbformat_minor": 0,
  "metadata": {
    "colab": {
      "name": "004_BasicOperationswithTensorflow.ipynb",
      "version": "0.3.2",
      "views": {},
      "default_view": {},
      "provenance": []
    },
    "kernelspec": {
      "name": "python3",
      "display_name": "Python 3"
    }
  },
  "cells": [
    {
      "metadata": {
        "id": "ezaIPkyvg9Tv",
        "colab_type": "text"
      },
      "cell_type": "markdown",
      "source": [
        "# Basic Operations with Tensorflow"
      ]
    },
    {
      "metadata": {
        "id": "FbcFbE13vwKp",
        "colab_type": "text"
      },
      "cell_type": "markdown",
      "source": [
        "## Indicações"
      ]
    },
    {
      "metadata": {
        "id": "y4mKGO0g20XM",
        "colab_type": "text"
      },
      "cell_type": "markdown",
      "source": [
        "### Mensagem\n",
        "* Quem deseja participar na tradução deste tutorial, pode-me enviar um email a **jlasam001@gmail.com** informando sua disponibilidade para a tarefa de tradução. Cabe indicar que o aluno participante da tradução do documento ganhara 1 ponto extra.\n",
        "\n",
        "### Dicas execução\n",
        "* Carregue todos os pacotes que serão necessários no início do arquivo.\n",
        "* Entre um exercício e outro, utilize um grafo diferente ou então reínicie o grafo padrão.\n",
        "* Para executar comandos da shell dentro do notebook, utilize o prefixo `!` antes do comando de shell. (e.g. para listar os arquivos da pasta atual faça `! ls` para UNIX ou `! dir` para Windows."
      ]
    },
    {
      "metadata": {
        "id": "JIEzYpcIvzRw",
        "colab_type": "code",
        "colab": {
          "autoexec": {
            "startup": false,
            "wait_interval": 0
          }
        }
      },
      "cell_type": "code",
      "source": [
        "import tensorflow as tf\n",
        "import numpy as np\n",
        "import matplotlib.pyplot as plt"
      ],
      "execution_count": 0,
      "outputs": []
    },
    {
      "metadata": {
        "id": "GbozIhBVdSPj",
        "colab_type": "text"
      },
      "cell_type": "markdown",
      "source": [
        "## Data\tFlow\tGraphs"
      ]
    },
    {
      "metadata": {
        "id": "zMzuzWYSQJtJ",
        "colab_type": "text"
      },
      "cell_type": "markdown",
      "source": [
        "\n",
        "A\tmachine\tlearning\tapplication\tis the\tresult\tof\tthe\trepeated\tcomputation\tof complex\tmathematical\texpressions.\t\n",
        "\n",
        "In\tTensorFlow,\ta\tcomputation\tis\tdescribed using\tthe\tData\tFlow\tGraph,\twhere\t\n",
        "* each\t**node**\tin\tthe\tgraph\trepresents\tthe\tinstance of\ta\tmathematical\toperation\t(multiply,\tadd,\tdivide,\tand\tso\ton);\n",
        "* each\t**edge** is\ta\tmulti-dimensional\tdata\tset\t(tensors)\ton\twhich\tthe\toperations\tare\tperformed.\n",
        "\n",
        "TensorFlow\tsupports\tthese\tconstructs\tand\tthese\toperators.\tLet's\tsee\tin\tdetail\thow nodes\tand\tedges\tare\tmanaged by\tTensorFlow:\n",
        "* **Node**:\tIn\tTensorFlow,\teach\tnode\trepresents\tthe\tinstantion\tof\tan\toperation. Each\toperation\thas\t>=\tinputs\tand\t>=\t0\toutputs.\n",
        "* **Edges**:\tIn\tTensorFlow,\tthere\tare\ttwo\ttypes\tof\tedge:\n",
        "  * **Normal\tEdges**:\tThey\tare\tcarriers\tof\tdata\tstructures\t(tensors),\twhere\tan output\tof\tone\toperation\t(from\tone\tnode)\tbecomes\tthe\tinput\tfor\tanother operation.\n",
        "  * **Special\tEdges**:\tThese\tedges\tare\tnot\tdata\tcarriers\tbetween\tthe\toutput\tof a\tnode\t(operator)\tand\tthe\tinput\tof\tanother\tnode.\t\n",
        "    * A\tspecial\tedge indicates\ta\tcontrol\tdependency\tbetween\ttwo\tnodes.\tLet's\tsuppose\twe have\ttwo\tnodes\tA\tand\tB\tand\ta\tspecial\tedges\tconnecting\tA\tto\tB;\tit means\tthat\tB\twill\tstart\tits\toperation\tonly\twhen\tthe\toperation\tin\tA\tends. \n",
        "  * **Special\tedges\tare\tused\tin\tData\tFlow\tGraph\tto set\tthe\thappens-before relationship\tbetween\toperations\ton\tthe\ttensors**."
      ]
    },
    {
      "metadata": {
        "id": "oZw1tLFYewyj",
        "colab_type": "text"
      },
      "cell_type": "markdown",
      "source": [
        "Let's\texplore\tsome\tfeatures\tin\tData\tFlow\tGraph\tin\tgreater\tdetail:\n",
        "\n",
        "* **Operation**:\tThis\trepresents\tan\tabstract\tcomputation,\tsuch\tas\tadding\tor multiplying\tmatrices.\tAn\toperation\tmanages\ttensors.\tIt\tcan\tjust\tbe **polymorphic**,\tthe\tsame\toperation\tcan\tmanipulate\tdifferent\ttensor\telement types.\tFor\texample,\tthe\taddition\tof\ttwo\tint32\ttensors,\tthe\taddition\tof\ttwo float\ttensors,\tand\tso\ton.\n",
        "* **Kernel**:\tThis\trepresents\tthe\tconcrete\timplementation\tof\tthat\toperation.\t**A kernel\tdefines\tthe\timplementation\tof\tthe\toperation\ton\ta\tparticular\tdevice**.\tFor example,\tan\tadd\tmatrix\toperation\tcan\thave\ta\tCPU\timplementation\tand\ta\tGPU one.\t\n",
        "\n",
        "In\tthe\tfollowing\tsection,\twe\thave\tintroduced\tthe\tconcept\tof\t**sessions**\tto create\ta\tdel\texecution\tgraph\tin TensorFlow.\tLet's\texplain\tthis\ttopic:\n",
        "\n",
        "* **Session**:\tWhen\tthe\tclient\tprogram\thas\tto\testablish\tcommunication\twith the TensorFlow\truntime\tsystem,\ta\tsession\tmust\tbe\tcreated.\tAs\tsoon\tas\tthe session\tis\tcreated\tfor\ta\tclient,\tan\tinitial\tgraph\tis\tcreated\tand\tis\tempty.\tIt\thas two\tfundamental\tmethods:\n",
        "  * **session.extend**:\tIn\ta\tcomputation,\tthe\tuser\tcan\textend\tthe\texecution graph,\trequesting\tto\tadd\tmore\toperations\t(nodes)\tand\tedges\t(data).\n",
        "  * **session.run**:\tUsing\tTensorFlow,\tsessions\tare\tcreated\twith\tsome graphs,\tand\tthese\tfull\tgraphs\tare\texecuted\tto\tget\tsome\toutputs,\tor sometimes,\tsubgraphs\tare\texecuted\tthousands/millions\tof\ttimes\tusing run\tinvocations.\t\n",
        "    * **Basically,\tthe\tmethod\truns\tthe\texecution\tgraph\tto provide\toutputs.**"
      ]
    },
    {
      "metadata": {
        "id": "K7rotFy-g3dO",
        "colab_type": "text"
      },
      "cell_type": "markdown",
      "source": [
        "## \tDoing\tMath\twith TensorFlow\t"
      ]
    },
    {
      "metadata": {
        "id": "s6R82fh7QPl1",
        "colab_type": "text"
      },
      "cell_type": "markdown",
      "source": [
        "### The\ttensor\tdata\tstructure\n",
        "Tensors\tare\tthe\tbasic\tdata\tstructures\tin\tTensorFlow.\tAs\twe\thave\talready\tsaid, they\trepresent\tthe\tconnecting\tedges\tin\ta\tData\tFlow\tGraph.\t\n",
        "\n",
        "A\ttensor\tsimply identifies\ta\tmultidimensional\tarray\tor\tlist.\n",
        "\n",
        "It\tcan\tbe\tidentified\tby\tthree\tparameters:\t`rank`,\t`shape`,\tand\t`type`:\n",
        "* `rank`:\tEach\ttensor\tis\tdescribed\tby\ta\tunit\tof\tdimensionality\tcalled\t`rank`.\tIt identifies\tthe\tnumber\tof\tdimensions\tof\tthe\ttensor.\tFor\tthis\treason,\ta\t`rank`\tis known\tas\torder\tor\t$n$-dimensions\tof\ta\ttensor\t(for\texample,\ta\trank\t$2$\ttensor\tis\ta matrix\tand\ta\trank\t$1$\ttensor\tis\ta\tvector).\n",
        "* `shape`:\tThe\tshape\tof\ta\ttensor\tis\tthe\tnumber\tof\trows\tand\tcolumns\tit\thas.\n",
        "* `type`:\tIt\tis\tthe\tdata\ttype\tassigned\tto\tthe\ttensor's\telements.\n",
        "\n",
        "Well,\tnow\twe\ttake\tconfidence\twith\tthis\tfundamental\tdata\tstructure.\tTo\tbuild\ta tensor,\twe\tcan:\n",
        "* Build\tan\t$n$-dimensional\tarray;\tfor\texample,\tby\tusing\tthe\tNumPy\tlibrary.\n",
        "* Convert\tthe\t$n$-dimensional\tarray\tinto\ta\tTensorFlow\ttensor.\n",
        "* Once\twe\tobtain\tthe\ttensor,\twe\tcan\thandle\tit\tusing\tthe\tTensorFlow\toperators."
      ]
    },
    {
      "metadata": {
        "id": "_nc0eudqtSqV",
        "colab_type": "text"
      },
      "cell_type": "markdown",
      "source": [
        "### One-dimensional\ttensors\n",
        "To\tbuild\ta\tone-dimensional\ttensor,\twe\tuse\tthe\tNumpy\t`array(s)`\tcommand,\twhere\t`s` is\ta\tPython\tlist:"
      ]
    },
    {
      "metadata": {
        "id": "A14dH__cuLx5",
        "colab_type": "code",
        "colab": {
          "autoexec": {
            "startup": false,
            "wait_interval": 0
          },
          "base_uri": "https://localhost:8080/",
          "height": 85
        },
        "outputId": "801c671a-fa1b-44af-be32-34ebefdafb12",
        "executionInfo": {
          "status": "ok",
          "timestamp": 1524280919700,
          "user_tz": 180,
          "elapsed": 583,
          "user": {
            "displayName": "jorge aching",
            "photoUrl": "https://lh3.googleusercontent.com/a/default-user=s128",
            "userId": "111991687470343349851"
          }
        }
      },
      "cell_type": "code",
      "source": [
        "tensor_1d\t=\tnp.array([1.3,\t1,\t4.0,\t23.99])\n",
        "print(tensor_1d)\t\n",
        "# print\tthe\tbasic\tattributes\tof\tthe\ttensor,\tthe\trank\tof\tthe\ttensor:\n",
        "print('dimension = ',tensor_1d.ndim)\t\n",
        "print('type = ',tensor_1d.dtype)\n",
        "print('shape = ',tensor_1d.shape)"
      ],
      "execution_count": 2,
      "outputs": [
        {
          "output_type": "stream",
          "text": [
            "[ 1.3   1.    4.   23.99]\n",
            "('dimension = ', 1)\n",
            "('type = ', dtype('float64'))\n",
            "('shape = ', (4,))\n"
          ],
          "name": "stdout"
        }
      ]
    },
    {
      "metadata": {
        "id": "Bup2AK_6uZaM",
        "colab_type": "text"
      },
      "cell_type": "markdown",
      "source": [
        "Now,\tlet's\tsee\thow\tto\tconvert\ta\tNumPy\tarray\tinto\ta\tTensorFlow\ttensor, using the\tTensorFlow\tfunction\t`tf_convert_to_tensor` that\tconverts\tPython\tobjects\tof various\ttypes\tto\ttensor\tobjects.\t\n"
      ]
    },
    {
      "metadata": {
        "id": "0nYhxH-Hucii",
        "colab_type": "code",
        "colab": {
          "autoexec": {
            "startup": false,
            "wait_interval": 0
          },
          "base_uri": "https://localhost:8080/",
          "height": 68
        },
        "outputId": "34a8a6ea-fed4-4242-ca87-6baca6b271e3",
        "executionInfo": {
          "status": "ok",
          "timestamp": 1523450694659,
          "user_tz": 180,
          "elapsed": 2151,
          "user": {
            "displayName": "jorge aching",
            "photoUrl": "https://lh3.googleusercontent.com/a/default-user=s128",
            "userId": "111991687470343349851"
          }
        }
      },
      "cell_type": "code",
      "source": [
        "tf_tensor=tf.convert_to_tensor(tensor_1d,dtype=tf.float64)\n",
        "\n",
        "#Running\tthe\tSession,\twe\tcan\tvisualize\tthe\ttensor\tand\tits\telements\tas\tfollows:\n",
        "with\ttf.Session()\tas\tsess:\t\n",
        "  print\tsess.run(tf_tensor)\t\n",
        "  print\tsess.run(tf_tensor[0])\t\n",
        "  print\tsess.run(tf_tensor[2])"
      ],
      "execution_count": 5,
      "outputs": [
        {
          "output_type": "stream",
          "text": [
            "[ 1.3   1.    4.   23.99]\n",
            "1.3\n",
            "4.0\n"
          ],
          "name": "stdout"
        }
      ]
    },
    {
      "metadata": {
        "id": "QV_ioagPvRyx",
        "colab_type": "text"
      },
      "cell_type": "markdown",
      "source": [
        "### Two-dimensional\ttensors\n",
        "\n",
        "To\tcreate\ta\ttwo-dimensional\ttensor\tor\tmatrix,\twe\tagain\tuse\t`array(s)`,\tbut\t`s`\twill\tbe a\tsequence\tof\tarray:"
      ]
    },
    {
      "metadata": {
        "id": "0i6b1gjHwWLT",
        "colab_type": "code",
        "colab": {
          "autoexec": {
            "startup": false,
            "wait_interval": 0
          },
          "base_uri": "https://localhost:8080/",
          "height": 85
        },
        "outputId": "535cdf80-148d-43d7-8cad-802349afc7e3",
        "executionInfo": {
          "status": "ok",
          "timestamp": 1523451085855,
          "user_tz": 180,
          "elapsed": 720,
          "user": {
            "displayName": "jorge aching",
            "photoUrl": "https://lh3.googleusercontent.com/a/default-user=s128",
            "userId": "111991687470343349851"
          }
        }
      },
      "cell_type": "code",
      "source": [
        "tensor_2d=np.array([(1,2,3,4),(4,5,6,7),(8,9,10,11),(12,13,14,15)])\t\n",
        "print(tensor_2d)\n"
      ],
      "execution_count": 7,
      "outputs": [
        {
          "output_type": "stream",
          "text": [
            "[[ 1  2  3  4]\n",
            " [ 4  5  6  7]\n",
            " [ 8  9 10 11]\n",
            " [12 13 14 15]]\n"
          ],
          "name": "stdout"
        }
      ]
    },
    {
      "metadata": {
        "id": "kzijbnpqw455",
        "colab_type": "text"
      },
      "cell_type": "markdown",
      "source": [
        "Let's\tsee\thow\twe\tcan\tapply\ta\tlittle\tmore\tcomplex\toperations\tto\tthese\tdata structures.\tConsider\tthe\tfollowing\tcode:"
      ]
    },
    {
      "metadata": {
        "id": "G-6X_8IJw-Dp",
        "colab_type": "code",
        "colab": {
          "autoexec": {
            "startup": false,
            "wait_interval": 0
          },
          "base_uri": "https://localhost:8080/",
          "height": 289
        },
        "outputId": "080d1778-f874-45df-98a4-52357591eaec",
        "executionInfo": {
          "status": "ok",
          "timestamp": 1523451718610,
          "user_tz": 180,
          "elapsed": 706,
          "user": {
            "displayName": "jorge aching",
            "photoUrl": "https://lh3.googleusercontent.com/a/default-user=s128",
            "userId": "111991687470343349851"
          }
        }
      },
      "cell_type": "code",
      "source": [
        "matrix1\t=\tnp.array([(2,2,2),(2,2,2),(2,2,2)], dtype='int32')\t\n",
        "matrix2\t=\tnp.array([(1,1,1),(1,1,1),(1,1,1)], dtype='int32')\n",
        "matrix3\t=\tnp.array([(2,7,2),(1,4,2),(9,0,2)],dtype='float32')\t\n",
        "print(\"matrix1 = \",matrix1)\n",
        "print(\"matrix2 = \",matrix2)\n",
        "print(\"matrix3 = \",matrix3)\n",
        "\n",
        "# We\tused\tthe\tTensorFlow\tconstant\toperator\tto\ttransfor\tnumpy array into\ta\ttensor\tdata\tstructure:\n",
        "\n",
        "matrix1\t=\ttf.constant(matrix1)\t\n",
        "matrix2\t=\ttf.constant(matrix2)\n",
        "matrix3\t=\ttf.constant(matrix3)\n",
        "  \n",
        "#The\tmatrices\tare\tready\tto\tbe\tmanipulated\twith\tTensorFlow\toperators.\t\n",
        "#In\tthis case,\twe\tcalculate\ta\tmatrix\tmultiplication\tand\ta\tmatrix\tsum:\n",
        "\n",
        "matrix_product\t=\ttf.matmul(matrix1,\tmatrix2)\t\n",
        "matrix_sum\t    =\ttf.add(matrix1,matrix2)\t\n",
        "matrix_det\t    =\ttf.matrix_determinant(matrix3)\n",
        "\n",
        "#It's\ttime\tto\tcreate\tour\tgraph\tand\trun\tthe\tsession,\twith\tthe\ttensors\tand operators\tcreated:\n",
        "\n",
        "with\ttf.Session()\tas\tsess:\t\n",
        "  result1\t=\tsess.run(matrix_product)\t\n",
        "  result2\t=\tsess.run(matrix_sum)\t\n",
        "  result3\t=\tsess.run(matrix_det)\n",
        "  print(\"matrix1*matrix2\t= \",result1)\n",
        "  print(\"matrix1+matrix2\t= \",result2)\n",
        "  print(\"|mmatrix3|\t= \",result3)"
      ],
      "execution_count": 10,
      "outputs": [
        {
          "output_type": "stream",
          "text": [
            "('matrix1 = ', array([[2, 2, 2],\n",
            "       [2, 2, 2],\n",
            "       [2, 2, 2]], dtype=int32))\n",
            "('matrix2 = ', array([[1, 1, 1],\n",
            "       [1, 1, 1],\n",
            "       [1, 1, 1]], dtype=int32))\n",
            "('matrix3 = ', array([[2., 7., 2.],\n",
            "       [1., 4., 2.],\n",
            "       [9., 0., 2.]], dtype=float32))\n",
            "('matrix1*matrix2\\t= ', array([[6, 6, 6],\n",
            "       [6, 6, 6],\n",
            "       [6, 6, 6]], dtype=int32))\n",
            "('matrix1+matrix2\\t= ', array([[3, 3, 3],\n",
            "       [3, 3, 3],\n",
            "       [3, 3, 3]], dtype=int32))\n",
            "('|mmatrix3|\\t= ', 56.00002)\n"
          ],
          "name": "stdout"
        }
      ]
    },
    {
      "metadata": {
        "id": "FyvQlY04zXHz",
        "colab_type": "text"
      },
      "cell_type": "markdown",
      "source": [
        "### Three-dimensional\ttensors\n",
        "\n",
        "The\tfollowing\tcode\tbuild\ta\tthree-dimensional\ttensor:"
      ]
    },
    {
      "metadata": {
        "id": "YHs69NnQz3AU",
        "colab_type": "code",
        "colab": {
          "autoexec": {
            "startup": false,
            "wait_interval": 0
          },
          "base_uri": "https://localhost:8080/",
          "height": 153
        },
        "outputId": "c7ec8309-926a-4239-b61e-eabe367afb7d",
        "executionInfo": {
          "status": "ok",
          "timestamp": 1523452214772,
          "user_tz": 180,
          "elapsed": 718,
          "user": {
            "displayName": "jorge aching",
            "photoUrl": "https://lh3.googleusercontent.com/a/default-user=s128",
            "userId": "111991687470343349851"
          }
        }
      },
      "cell_type": "code",
      "source": [
        "tensor_3d\t=\tnp.array([[[1,2],[3,4]],[[5,6],[7,8]]])\t\n",
        "print(tensor_3d)\t\n",
        "# print\tthe\tbasic\tattributes\tof\tthe\ttensor,\tthe\trank\tof\tthe\ttensor:\n",
        "print('dimension = ',tensor_3d.ndim)\t\n",
        "print('type = ',tensor_3d.dtype)\n",
        "print('shape = ',tensor_3d.shape)"
      ],
      "execution_count": 11,
      "outputs": [
        {
          "output_type": "stream",
          "text": [
            "[[[1 2]\n",
            "  [3 4]]\n",
            "\n",
            " [[5 6]\n",
            "  [7 8]]]\n",
            "('dimension = ', 3)\n",
            "('type = ', dtype('int64'))\n",
            "('shape = ', (2, 2, 2))\n"
          ],
          "name": "stdout"
        }
      ]
    },
    {
      "metadata": {
        "id": "VHlIfM1TNehD",
        "colab_type": "text"
      },
      "cell_type": "markdown",
      "source": [
        "## Computing\tgradients"
      ]
    },
    {
      "metadata": {
        "id": "ca7p6-Q4QiiR",
        "colab_type": "text"
      },
      "cell_type": "markdown",
      "source": [
        "TensorFlow\thas\tfunctions\tto\tsolve\tother\tmore\tcomplex\ttasks.\t\n",
        "For\texample,\twe will\tuse\ta\tmathematical\toperator\tthat\tcalculates\tthe\tderivative\tof\t$y$\twith\trespect\tto its\texpression $x$\tparameter.\n",
        "For\tthis\tpurpose,\twe\tuse\tthe\t`tf.gradients()` function.\n",
        "\n",
        "Let\tus\tconsider\tthe\tmath\tfunction\t$y\t=\t2x^2$.\t\n",
        "We want to compute the\tgradient\t$dy/dx$.\t\n",
        "The\tfollowing\tis\tthe\tcode\tto\tcompute\tthis\tgradient:"
      ]
    },
    {
      "metadata": {
        "id": "MUltOt9SOKGM",
        "colab_type": "code",
        "colab": {
          "autoexec": {
            "startup": false,
            "wait_interval": 0
          },
          "base_uri": "https://localhost:8080/",
          "height": 34
        },
        "outputId": "752aa8f7-3817-4f10-da86-2b687adb4f06",
        "executionInfo": {
          "status": "ok",
          "timestamp": 1524617082694,
          "user_tz": 180,
          "elapsed": 928,
          "user": {
            "displayName": "jorge aching",
            "photoUrl": "https://lh3.googleusercontent.com/a/default-user=s128",
            "userId": "111991687470343349851"
          }
        }
      },
      "cell_type": "code",
      "source": [
        "#The\tx\tvariable\tis\tthe\tindependent\tvariable\tof\tthe\tfunction:\n",
        "x\t=\ttf.placeholder(tf.float32)\n",
        "\n",
        "#Let's\tbuild\tthe\tfunction:\n",
        "y\t=\t\t2*x*x\n",
        "\n",
        "#Finally,\twe\tcall\tthe\ttf.gradients()\tfunction\twith\ty\tand\tx\tas\targuments:\n",
        "var_grad\t=\ttf.gradients(y,\tx)\n",
        "\n",
        "#To\tevaluate\tthe\tgradient,\twe\tmust\tbuild\ta\tsession:\n",
        "with\ttf.Session()\tas\tsess:\n",
        "  #The\tgradient\twill\tbe\tevaluated\ton\tthe\tvariable\tx=1:\n",
        "  var_grad_val\t=\tsess.run(var_grad,feed_dict={x:1})\n",
        "  #The\tvar_grad_val\tvalue\tis\tthe\tfeed\tresult,\tto\tbe\tprinted:\n",
        "  print(var_grad_val)"
      ],
      "execution_count": 3,
      "outputs": [
        {
          "output_type": "stream",
          "text": [
            "[4.0]\n"
          ],
          "name": "stdout"
        }
      ]
    },
    {
      "metadata": {
        "id": "Vz9o7P-GQq2I",
        "colab_type": "text"
      },
      "cell_type": "markdown",
      "source": [
        "## Random\tnumbers"
      ]
    },
    {
      "metadata": {
        "id": "1Pcju7CVQrBz",
        "colab_type": "text"
      },
      "cell_type": "markdown",
      "source": [
        "The\tgeneration\tof\trandom\tnumbers\tis\tessential\tin\tmachine\tlearning\tand\twithin\tthe training\talgorithms.\t\n",
        "When\trandom\tnumbers\tare\tgenerated\tby\ta\tcomputer,\tthey\tare generated\tby\ta\t**Pseudo\tRandom\tNumber\tGenerator\t(PRNG)**.\t\n",
        "The\tterm\tpseudo comes\tfrom\tthe\tfact\tthat\tthe\tcomputer\tis\ta\tstain\tlogically\tprogrammed\trunning\tof instructions\tthat\tcan\tonly\tsimulate\trandomness.\t\n",
        "Despite\tthis\tlogical\tlimitation, computers\tare\tvery\tefficient\tat\tgenerating\trandom\tnumbers.\t\n",
        "TensorFlow\tprovides operators\tto\tcreate\trandom\ttensors\twith\tdifferent\tdistributions."
      ]
    },
    {
      "metadata": {
        "id": "BHtrCumrRGae",
        "colab_type": "text"
      },
      "cell_type": "markdown",
      "source": [
        "### Uniform distribution\n",
        "\n",
        "Generally, when we need to work with random numbers, we try to get repeated values with the same frequency, uniformly distributed. \n",
        "The operator TensorFlow provides values between `minval` and `maxval`, all with the same probability. \n",
        "\n",
        "`random_uniform(shape,minval,maxval,dtype,seed,name)`\n",
        "\n",
        "Let's see a simple example code:"
      ]
    },
    {
      "metadata": {
        "id": "vJlmljeZRtCi",
        "colab_type": "code",
        "colab": {
          "autoexec": {
            "startup": false,
            "wait_interval": 0
          },
          "base_uri": "https://localhost:8080/",
          "height": 347
        },
        "outputId": "72f458bf-fb30-43ea-9800-8c687d1577a4",
        "executionInfo": {
          "status": "ok",
          "timestamp": 1524617617757,
          "user_tz": 180,
          "elapsed": 787,
          "user": {
            "displayName": "jorge aching",
            "photoUrl": "https://lh3.googleusercontent.com/a/default-user=s128",
            "userId": "111991687470343349851"
          }
        }
      },
      "cell_type": "code",
      "source": [
        "#The uniform variable is a 1-dimensional tensor, the elements 100, containing\n",
        "#values ranging from 0 to 1, distributed with the same probability:\n",
        "numberSamples = 1000\n",
        "uniform = tf.random_uniform([numberSamples],minval=0,maxval=1,dtype=tf.float32) \n",
        "with tf.Session() as sess: \n",
        "    val = sess.run(uniform)\n",
        "    #print(val)\n",
        "    plt.hist(val,normed=True) \n",
        "    plt.show()"
      ],
      "execution_count": 7,
      "outputs": [
        {
          "output_type": "display_data",
          "data": {
            "image/png": "[encoded data removed]",
            "text/plain": [
              "<matplotlib.figure.Figure at 0x7f8c48ec0710>"
            ]
          },
          "metadata": {
            "tags": []
          }
        }
      ]
    },
    {
      "metadata": {
        "id": "d41lYZvMSxtR",
        "colab_type": "text"
      },
      "cell_type": "markdown",
      "source": [
        "### Normal distribution\n",
        "\n",
        "In some specific cases, you may need to generate random numbers that differ by a few units. \n",
        "In this case, we used the normal distribution of random numbers, also called Gaussian distribution, that increases the probability of the next issues extraction at 0. \n",
        "Each integer represents the standard deviation. As shown from the future issues to the margins of the range have a very low chance of being extracted. \n",
        "The following is the implementation with TensorFlow:"
      ]
    },
    {
      "metadata": {
        "id": "0Z5g7-aeX_a7",
        "colab_type": "code",
        "colab": {
          "autoexec": {
            "startup": false,
            "wait_interval": 0
          },
          "base_uri": "https://localhost:8080/",
          "height": 347
        },
        "outputId": "222b7e83-2027-40d8-b062-3a096ec779f2",
        "executionInfo": {
          "status": "ok",
          "timestamp": 1524620547618,
          "user_tz": 180,
          "elapsed": 1477,
          "user": {
            "displayName": "jorge aching",
            "photoUrl": "https://lh3.googleusercontent.com/a/default-user=s128",
            "userId": "111991687470343349851"
          }
        }
      },
      "cell_type": "code",
      "source": [
        "#We created a 1d-tensor of shape [100] consisting of random normal values,\n",
        "#with mean equal to 0 and standard deviation equal to 2\n",
        "numberSamples = 1000\n",
        "norm\t=\ttf.random_normal([numberSamples],\tmean=0,\tstddev=2)\n",
        "with tf.Session() as sess: \n",
        "  val = sess.run(norm)\n",
        "  #print(val)\n",
        "  plt.hist(val,normed=True) \n",
        "  plt.show()"
      ],
      "execution_count": 20,
      "outputs": [
        {
          "output_type": "display_data",
          "data": {
            "image/png": "[encoded data removed]",
            "text/plain": [
              "<matplotlib.figure.Figure at 0x7f88c4d1f550>"
            ]
          },
          "metadata": {
            "tags": []
          }
        }
      ]
    },
    {
      "metadata": {
        "id": "Et6iEZKGYeTx",
        "colab_type": "text"
      },
      "cell_type": "markdown",
      "source": [
        "### Generating random numbers with seeds\n",
        "\n",
        "We recall that our sequence is pseudo-random, because the values are calculated using a deterministic algorithm and probability plays no real role. \n",
        "**The seed is just a starting point for the sequence and if you start from the same seed you will end up with the same sequence**. \n",
        "This is very useful, for example, to debug your code, when you are searching for an error in a program and you must be able to reproduce the problem because every run would be different.\n",
        "Consider the following example where we have two uniform distributions:"
      ]
    },
    {
      "metadata": {
        "id": "rk5sYZP6ZEjl",
        "colab_type": "code",
        "colab": {
          "autoexec": {
            "startup": false,
            "wait_interval": 0
          },
          "base_uri": "https://localhost:8080/",
          "height": 187
        },
        "cellView": "code",
        "outputId": "47001a6e-fe1b-4005-be10-9250d833b155",
        "executionInfo": {
          "status": "ok",
          "timestamp": 1524620783410,
          "user_tz": 180,
          "elapsed": 683,
          "user": {
            "displayName": "jorge aching",
            "photoUrl": "https://lh3.googleusercontent.com/a/default-user=s128",
            "userId": "111991687470343349851"
          }
        }
      },
      "cell_type": "code",
      "source": [
        "#In the first uniform distribution, we began with the seed = 1. This means that\n",
        "#repeatedly evaluating the two distributions, the first uniform distribution will\n",
        "#always generate the same sequence of values:\n",
        "  \n",
        "uniform_with_seed = tf.random_uniform([1],seed=1)\n",
        "uniform_without_seed = tf.random_uniform([1])\n",
        "\n",
        "#As you can see, this is the end result. The uniform distribution with seed = 1\n",
        "#always gives the same result:\n",
        "\n",
        "print(\"First Run\")\n",
        "with tf.Session() as first_session:\n",
        "\tprint('uniform with (seed = 1) = {}'.format(first_session.run(uniform_with_seed)))\n",
        "\tprint(\"uniform with (seed = 1) = {}\".format(first_session.run(uniform_with_seed)))\n",
        "\tprint(\"uniform without seed = {}\".format(first_session.run(uniform_without_seed)))\n",
        "\tprint(\"uniform without seed = {}\".format(first_session.run(uniform_without_seed)))\n",
        "\n",
        "print(\"Second Run\")\n",
        "with tf.Session() as second_session:\n",
        "\tprint(\"uniform with (seed = 1) = {}\".format(second_session.run(uniform_with_seed)))\n",
        "\tprint(\"uniform with (seed = 1) = {}\".format(second_session.run(uniform_with_seed)))\n",
        "\tprint(\"uniform without seed = {}\".format(second_session.run(uniform_without_seed)))\n",
        "\tprint(\"uniform without seed = {}\".format(second_session.run(uniform_without_seed)))"
      ],
      "execution_count": 24,
      "outputs": [
        {
          "output_type": "stream",
          "text": [
            "First Run\n",
            "uniform with (seed = 1) = [0.2390374]\n",
            "uniform with (seed = 1) = [0.22267115]\n",
            "uniform without seed = [0.49530184]\n",
            "uniform without seed = [0.15070164]\n",
            "Second Run\n",
            "uniform with (seed = 1) = [0.2390374]\n",
            "uniform with (seed = 1) = [0.22267115]\n",
            "uniform without seed = [0.2640729]\n",
            "uniform without seed = [0.51043105]\n"
          ],
          "name": "stdout"
        }
      ]
    },
    {
      "metadata": {
        "id": "MJURJqATfFQA",
        "colab_type": "text"
      },
      "cell_type": "markdown",
      "source": [
        "### Montecarlo's method\n",
        "\n",
        "We end the section on random numbers with a simple note about the Montecarlo method. \n",
        "It is a numerical probabilistic method widely used in the application of high-performance scientific computing. \n",
        "In our example, we will calculate the value of $\\pi$:"
      ]
    },
    {
      "metadata": {
        "id": "_k1scw2IfRVs",
        "colab_type": "code",
        "colab": {
          "autoexec": {
            "startup": false,
            "wait_interval": 0
          },
          "base_uri": "https://localhost:8080/",
          "height": 347
        },
        "outputId": "a746ab5d-00ad-4ef6-afd9-a2b22e4cd823",
        "executionInfo": {
          "status": "ok",
          "timestamp": 1524621330543,
          "user_tz": 180,
          "elapsed": 3620,
          "user": {
            "displayName": "jorge aching",
            "photoUrl": "https://lh3.googleusercontent.com/a/default-user=s128",
            "userId": "111991687470343349851"
          }
        }
      },
      "cell_type": "code",
      "source": [
        "#Generate pseudo-random points inside the square [-1,1]×[-1,1], using the\n",
        "#random_uniform function:\n",
        "\n",
        "x = tf.random_uniform([1],minval=-1,maxval=1,dtype=tf.float32) \n",
        "y = tf.random_uniform([1],minval=-1,maxval=1,dtype=tf.float32) \n",
        "pi = []\n",
        "\n",
        "#Inside the session, we calculate the value of π: the area of the circle is π and that\n",
        "#of the square is 4. The relationship between the numbers inside the circle and the\n",
        "#total of generated points must converge (very slowly) to π, and we count how\n",
        "#many points fall inside the circle equation x^2+y^2=1.\n",
        "\n",
        "trials = 100 \n",
        "hits = 0\n",
        "with tf.Session() as sess: \n",
        "\tfor i in range(1,trials):    \n",
        "\t\tfor j in range(1,trials): \n",
        "\t\t\txv = sess.run(x)\n",
        "\t\t\tyv = sess.run(y)\n",
        "\t\t\tif(xv**2 + yv**2 < 1): \n",
        "\t\t\t\thits = hits + 1 \n",
        "\t\t\t\tpi.append((4 * float(hits) / i)/trials)    \n",
        "\n",
        "plt.plot(pi) \n",
        "plt.show()"
      ],
      "execution_count": 30,
      "outputs": [
        {
          "output_type": "display_data",
          "data": {
            "image/png": "[encoded data removed]",
            "text/plain": [
              "<matplotlib.figure.Figure at 0x7f88f006f518>"
            ]
          },
          "metadata": {
            "tags": []
          }
        }
      ]
    },
    {
      "metadata": {
        "id": "hFEt8EOIw2Vk",
        "colab_type": "text"
      },
      "cell_type": "markdown",
      "source": [
        "A partial differential equation (PDE) is a differential equation involving partial derivatives of an unknown function of several independent variables. \n",
        "PDEs are commonly used to formulate and solve major physical problems in various fields, from quantum mechanics to financial markets. \n",
        "In this section, we take the example from [link](https://www.TensorFlow.org/versions/r0.8/tutorials/pdes/index.html), showing the use of TensorFlow in a two-dimensional PDE solution that models the surface of square pond with a few raindrops landing on it. The effect will be to produce bi-dimensional waves on the pond itself. \n",
        "We won't concentrate on the computational aspects of the problem, as this is beyond the scope of this book; instead we will focus on using TensorFlow to define the problem."
      ]
    }
  ]
}